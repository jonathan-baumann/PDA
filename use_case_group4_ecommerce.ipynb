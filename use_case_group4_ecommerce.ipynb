{
 "cells": [
  {
   "cell_type": "code",
   "execution_count": 41,
   "metadata": {},
   "outputs": [],
   "source": [
    "#all imports required\n",
    "\n",
    "import numpy as np\n",
    "import pandas as pd\n",
    "import matplotlib.pyplot as plt\n",
    "import seaborn as sns\n",
    "from numpy import log2 as log\n",
    "%matplotlib inline"
   ]
  },
  {
   "cell_type": "code",
   "execution_count": 42,
   "metadata": {},
   "outputs": [
    {
     "data": {
      "text/html": [
       "<div>\n",
       "<style scoped>\n",
       "    .dataframe tbody tr th:only-of-type {\n",
       "        vertical-align: middle;\n",
       "    }\n",
       "\n",
       "    .dataframe tbody tr th {\n",
       "        vertical-align: top;\n",
       "    }\n",
       "\n",
       "    .dataframe thead th {\n",
       "        text-align: right;\n",
       "    }\n",
       "</style>\n",
       "<table border=\"1\" class=\"dataframe\">\n",
       "  <thead>\n",
       "    <tr style=\"text-align: right;\">\n",
       "      <th></th>\n",
       "      <th>Warehouse_block</th>\n",
       "      <th>Mode_of_Shipment</th>\n",
       "      <th>Customer_care_calls</th>\n",
       "      <th>Customer_rating</th>\n",
       "      <th>Cost_of_the_Product</th>\n",
       "      <th>Prior_purchases</th>\n",
       "      <th>Product_importance</th>\n",
       "      <th>Gender</th>\n",
       "      <th>Discount_offered</th>\n",
       "      <th>Weight_in_gms</th>\n",
       "      <th>Reached.on.Time_Y.N</th>\n",
       "    </tr>\n",
       "    <tr>\n",
       "      <th>ID</th>\n",
       "      <th></th>\n",
       "      <th></th>\n",
       "      <th></th>\n",
       "      <th></th>\n",
       "      <th></th>\n",
       "      <th></th>\n",
       "      <th></th>\n",
       "      <th></th>\n",
       "      <th></th>\n",
       "      <th></th>\n",
       "      <th></th>\n",
       "    </tr>\n",
       "  </thead>\n",
       "  <tbody>\n",
       "    <tr>\n",
       "      <th>1</th>\n",
       "      <td>D</td>\n",
       "      <td>Flight</td>\n",
       "      <td>4</td>\n",
       "      <td>2</td>\n",
       "      <td>177</td>\n",
       "      <td>3</td>\n",
       "      <td>low</td>\n",
       "      <td>F</td>\n",
       "      <td>44</td>\n",
       "      <td>1233</td>\n",
       "      <td>1</td>\n",
       "    </tr>\n",
       "    <tr>\n",
       "      <th>2</th>\n",
       "      <td>F</td>\n",
       "      <td>Flight</td>\n",
       "      <td>4</td>\n",
       "      <td>5</td>\n",
       "      <td>216</td>\n",
       "      <td>2</td>\n",
       "      <td>low</td>\n",
       "      <td>M</td>\n",
       "      <td>59</td>\n",
       "      <td>3088</td>\n",
       "      <td>1</td>\n",
       "    </tr>\n",
       "    <tr>\n",
       "      <th>3</th>\n",
       "      <td>A</td>\n",
       "      <td>Flight</td>\n",
       "      <td>2</td>\n",
       "      <td>2</td>\n",
       "      <td>183</td>\n",
       "      <td>4</td>\n",
       "      <td>low</td>\n",
       "      <td>M</td>\n",
       "      <td>48</td>\n",
       "      <td>3374</td>\n",
       "      <td>1</td>\n",
       "    </tr>\n",
       "    <tr>\n",
       "      <th>4</th>\n",
       "      <td>B</td>\n",
       "      <td>Flight</td>\n",
       "      <td>3</td>\n",
       "      <td>3</td>\n",
       "      <td>176</td>\n",
       "      <td>4</td>\n",
       "      <td>medium</td>\n",
       "      <td>M</td>\n",
       "      <td>10</td>\n",
       "      <td>1177</td>\n",
       "      <td>1</td>\n",
       "    </tr>\n",
       "    <tr>\n",
       "      <th>5</th>\n",
       "      <td>C</td>\n",
       "      <td>Flight</td>\n",
       "      <td>2</td>\n",
       "      <td>2</td>\n",
       "      <td>184</td>\n",
       "      <td>3</td>\n",
       "      <td>medium</td>\n",
       "      <td>F</td>\n",
       "      <td>46</td>\n",
       "      <td>2484</td>\n",
       "      <td>1</td>\n",
       "    </tr>\n",
       "    <tr>\n",
       "      <th>...</th>\n",
       "      <td>...</td>\n",
       "      <td>...</td>\n",
       "      <td>...</td>\n",
       "      <td>...</td>\n",
       "      <td>...</td>\n",
       "      <td>...</td>\n",
       "      <td>...</td>\n",
       "      <td>...</td>\n",
       "      <td>...</td>\n",
       "      <td>...</td>\n",
       "      <td>...</td>\n",
       "    </tr>\n",
       "    <tr>\n",
       "      <th>10995</th>\n",
       "      <td>A</td>\n",
       "      <td>Ship</td>\n",
       "      <td>4</td>\n",
       "      <td>1</td>\n",
       "      <td>252</td>\n",
       "      <td>5</td>\n",
       "      <td>medium</td>\n",
       "      <td>F</td>\n",
       "      <td>1</td>\n",
       "      <td>1538</td>\n",
       "      <td>1</td>\n",
       "    </tr>\n",
       "    <tr>\n",
       "      <th>10996</th>\n",
       "      <td>B</td>\n",
       "      <td>Ship</td>\n",
       "      <td>4</td>\n",
       "      <td>1</td>\n",
       "      <td>232</td>\n",
       "      <td>5</td>\n",
       "      <td>medium</td>\n",
       "      <td>F</td>\n",
       "      <td>6</td>\n",
       "      <td>1247</td>\n",
       "      <td>0</td>\n",
       "    </tr>\n",
       "    <tr>\n",
       "      <th>10997</th>\n",
       "      <td>C</td>\n",
       "      <td>Ship</td>\n",
       "      <td>5</td>\n",
       "      <td>4</td>\n",
       "      <td>242</td>\n",
       "      <td>5</td>\n",
       "      <td>low</td>\n",
       "      <td>F</td>\n",
       "      <td>4</td>\n",
       "      <td>1155</td>\n",
       "      <td>0</td>\n",
       "    </tr>\n",
       "    <tr>\n",
       "      <th>10998</th>\n",
       "      <td>F</td>\n",
       "      <td>Ship</td>\n",
       "      <td>5</td>\n",
       "      <td>2</td>\n",
       "      <td>223</td>\n",
       "      <td>6</td>\n",
       "      <td>medium</td>\n",
       "      <td>M</td>\n",
       "      <td>2</td>\n",
       "      <td>1210</td>\n",
       "      <td>0</td>\n",
       "    </tr>\n",
       "    <tr>\n",
       "      <th>10999</th>\n",
       "      <td>D</td>\n",
       "      <td>Ship</td>\n",
       "      <td>2</td>\n",
       "      <td>5</td>\n",
       "      <td>155</td>\n",
       "      <td>5</td>\n",
       "      <td>low</td>\n",
       "      <td>F</td>\n",
       "      <td>6</td>\n",
       "      <td>1639</td>\n",
       "      <td>0</td>\n",
       "    </tr>\n",
       "  </tbody>\n",
       "</table>\n",
       "<p>10999 rows × 11 columns</p>\n",
       "</div>"
      ],
      "text/plain": [
       "      Warehouse_block Mode_of_Shipment  Customer_care_calls  Customer_rating   \n",
       "ID                                                                             \n",
       "1                   D           Flight                    4                2  \\\n",
       "2                   F           Flight                    4                5   \n",
       "3                   A           Flight                    2                2   \n",
       "4                   B           Flight                    3                3   \n",
       "5                   C           Flight                    2                2   \n",
       "...               ...              ...                  ...              ...   \n",
       "10995               A             Ship                    4                1   \n",
       "10996               B             Ship                    4                1   \n",
       "10997               C             Ship                    5                4   \n",
       "10998               F             Ship                    5                2   \n",
       "10999               D             Ship                    2                5   \n",
       "\n",
       "       Cost_of_the_Product  Prior_purchases Product_importance Gender   \n",
       "ID                                                                      \n",
       "1                      177                3                low      F  \\\n",
       "2                      216                2                low      M   \n",
       "3                      183                4                low      M   \n",
       "4                      176                4             medium      M   \n",
       "5                      184                3             medium      F   \n",
       "...                    ...              ...                ...    ...   \n",
       "10995                  252                5             medium      F   \n",
       "10996                  232                5             medium      F   \n",
       "10997                  242                5                low      F   \n",
       "10998                  223                6             medium      M   \n",
       "10999                  155                5                low      F   \n",
       "\n",
       "       Discount_offered  Weight_in_gms  Reached.on.Time_Y.N  \n",
       "ID                                                           \n",
       "1                    44           1233                    1  \n",
       "2                    59           3088                    1  \n",
       "3                    48           3374                    1  \n",
       "4                    10           1177                    1  \n",
       "5                    46           2484                    1  \n",
       "...                 ...            ...                  ...  \n",
       "10995                 1           1538                    1  \n",
       "10996                 6           1247                    0  \n",
       "10997                 4           1155                    0  \n",
       "10998                 2           1210                    0  \n",
       "10999                 6           1639                    0  \n",
       "\n",
       "[10999 rows x 11 columns]"
      ]
     },
     "execution_count": 42,
     "metadata": {},
     "output_type": "execute_result"
    }
   ],
   "source": [
    "df_ecommerce = pd.read_csv(\"E-Commerce Shipping_data.csv\", index_col=0)\n",
    "df_ecommerce"
   ]
  },
  {
   "cell_type": "code",
   "execution_count": 43,
   "metadata": {},
   "outputs": [
    {
     "name": "stdout",
     "output_type": "stream",
     "text": [
      "<class 'pandas.core.frame.DataFrame'>\n",
      "Index: 10999 entries, 1 to 10999\n",
      "Data columns (total 11 columns):\n",
      " #   Column               Non-Null Count  Dtype \n",
      "---  ------               --------------  ----- \n",
      " 0   Warehouse_block      10999 non-null  object\n",
      " 1   Mode_of_Shipment     10999 non-null  object\n",
      " 2   Customer_care_calls  10999 non-null  int64 \n",
      " 3   Customer_rating      10999 non-null  int64 \n",
      " 4   Cost_of_the_Product  10999 non-null  int64 \n",
      " 5   Prior_purchases      10999 non-null  int64 \n",
      " 6   Product_importance   10999 non-null  object\n",
      " 7   Gender               10999 non-null  object\n",
      " 8   Discount_offered     10999 non-null  int64 \n",
      " 9   Weight_in_gms        10999 non-null  int64 \n",
      " 10  Reached.on.Time_Y.N  10999 non-null  int64 \n",
      "dtypes: int64(7), object(4)\n",
      "memory usage: 1.0+ MB\n"
     ]
    }
   ],
   "source": [
    "df_ecommerce.info()"
   ]
  },
  {
   "cell_type": "code",
   "execution_count": 44,
   "metadata": {},
   "outputs": [
    {
     "data": {
      "text/plain": [
       "Index(['Warehouse_block', 'Mode_of_Shipment', 'Customer_care_calls',\n",
       "       'Customer_rating', 'Cost_of_the_Product', 'Prior_purchases',\n",
       "       'Product_importance', 'Gender', 'Discount_offered', 'Weight_in_gms',\n",
       "       'Reached.on.Time_Y.N'],\n",
       "      dtype='object')"
      ]
     },
     "execution_count": 44,
     "metadata": {},
     "output_type": "execute_result"
    }
   ],
   "source": [
    "df_ecommerce.columns"
   ]
  },
  {
   "attachments": {},
   "cell_type": "markdown",
   "metadata": {},
   "source": [
    "Data Explorations:"
   ]
  },
  {
   "attachments": {},
   "cell_type": "markdown",
   "metadata": {},
   "source": [
    "Warehouse Block:"
   ]
  },
  {
   "cell_type": "code",
   "execution_count": 45,
   "metadata": {},
   "outputs": [
    {
     "data": {
      "text/plain": [
       "count     10999\n",
       "unique        5\n",
       "top           F\n",
       "freq       3666\n",
       "Name: Warehouse_block, dtype: object"
      ]
     },
     "execution_count": 45,
     "metadata": {},
     "output_type": "execute_result"
    }
   ],
   "source": [
    "df_ecommerce['Warehouse_block'].describe()"
   ]
  },
  {
   "cell_type": "code",
   "execution_count": 46,
   "metadata": {},
   "outputs": [
    {
     "data": {
      "text/plain": [
       "<seaborn.axisgrid.FacetGrid at 0x22bbe4e9610>"
      ]
     },
     "execution_count": 46,
     "metadata": {},
     "output_type": "execute_result"
    },
    {
     "data": {
      "image/png": "[encoded data removed]",
      "text/plain": [
       "<Figure size 500x500 with 1 Axes>"
      ]
     },
     "metadata": {},
     "output_type": "display_data"
    }
   ],
   "source": [
    "sns.displot(df_ecommerce['Warehouse_block'])\n",
    "\n",
    "#alle außer F(~3666) kommen gleich oft vor (~1800)"
   ]
  },
  {
   "attachments": {},
   "cell_type": "markdown",
   "metadata": {},
   "source": [
    "Mode of Shipment:"
   ]
  },
  {
   "cell_type": "code",
   "execution_count": 47,
   "metadata": {},
   "outputs": [
    {
     "data": {
      "text/plain": [
       "count     10999\n",
       "unique        3\n",
       "top        Ship\n",
       "freq       7462\n",
       "Name: Mode_of_Shipment, dtype: object"
      ]
     },
     "execution_count": 47,
     "metadata": {},
     "output_type": "execute_result"
    }
   ],
   "source": [
    "df_ecommerce['Mode_of_Shipment'].describe()"
   ]
  },
  {
   "cell_type": "code",
   "execution_count": 48,
   "metadata": {},
   "outputs": [
    {
     "data": {
      "text/plain": [
       "<seaborn.axisgrid.FacetGrid at 0x22bc1a44d10>"
      ]
     },
     "execution_count": 48,
     "metadata": {},
     "output_type": "execute_result"
    },
    {
     "data": {
      "image/png": "[encoded data removed]",
      "text/plain": [
       "<Figure size 500x500 with 1 Axes>"
      ]
     },
     "metadata": {},
     "output_type": "display_data"
    }
   ],
   "source": [
    "sns.displot(df_ecommerce['Mode_of_Shipment'])\n",
    "\n",
    "#Ship 7462, Flight und Road beide ~1800"
   ]
  },
  {
   "attachments": {},
   "cell_type": "markdown",
   "metadata": {},
   "source": [
    "Customer Rating:"
   ]
  },
  {
   "cell_type": "code",
   "execution_count": 49,
   "metadata": {},
   "outputs": [
    {
     "data": {
      "text/plain": [
       "count    10999.000000\n",
       "mean         2.990545\n",
       "std          1.413603\n",
       "min          1.000000\n",
       "25%          2.000000\n",
       "50%          3.000000\n",
       "75%          4.000000\n",
       "max          5.000000\n",
       "Name: Customer_rating, dtype: float64"
      ]
     },
     "execution_count": 49,
     "metadata": {},
     "output_type": "execute_result"
    }
   ],
   "source": [
    "df_ecommerce['Customer_rating'].describe()\n",
    "\n",
    "#durchschnitt 2.99 mit hoher(?) standartabweichung von 1.4"
   ]
  },
  {
   "cell_type": "code",
   "execution_count": 50,
   "metadata": {},
   "outputs": [
    {
     "data": {
      "text/plain": [
       "<seaborn.axisgrid.FacetGrid at 0x22bc1a68610>"
      ]
     },
     "execution_count": 50,
     "metadata": {},
     "output_type": "execute_result"
    },
    {
     "data": {
      "image/png": "[encoded data removed]",
      "text/plain": [
       "<Figure size 500x500 with 1 Axes>"
      ]
     },
     "metadata": {},
     "output_type": "display_data"
    }
   ],
   "source": [
    "sns.displot(df_ecommerce['Customer_rating'])\n",
    "\n",
    "#sagt uns garnix TEST"
   ]
  },
  {
   "attachments": {},
   "cell_type": "markdown",
   "metadata": {},
   "source": [
    "Prior Purchases:"
   ]
  },
  {
   "cell_type": "code",
   "execution_count": 51,
   "metadata": {},
   "outputs": [
    {
     "data": {
      "text/plain": [
       "count    10999.000000\n",
       "mean         3.567597\n",
       "std          1.522860\n",
       "min          2.000000\n",
       "25%          3.000000\n",
       "50%          3.000000\n",
       "75%          4.000000\n",
       "max         10.000000\n",
       "Name: Prior_purchases, dtype: float64"
      ]
     },
     "execution_count": 51,
     "metadata": {},
     "output_type": "execute_result"
    }
   ],
   "source": [
    "df_ecommerce['Prior_purchases'].describe()\n",
    "\n",
    "#durchschnitt 3.57 mit standartabweichung 1.52"
   ]
  },
  {
   "cell_type": "code",
   "execution_count": 52,
   "metadata": {},
   "outputs": [
    {
     "data": {
      "text/plain": [
       "<seaborn.axisgrid.FacetGrid at 0x22bc1a6b990>"
      ]
     },
     "execution_count": 52,
     "metadata": {},
     "output_type": "execute_result"
    },
    {
     "data": {
      "image/png": "[encoded data removed]",
      "text/plain": [
       "<Figure size 500x500 with 1 Axes>"
      ]
     },
     "metadata": {},
     "output_type": "display_data"
    }
   ],
   "source": [
    "sns.displot(df_ecommerce['Prior_purchases'])"
   ]
  },
  {
   "attachments": {},
   "cell_type": "markdown",
   "metadata": {},
   "source": [
    "Customer Care Calls:"
   ]
  },
  {
   "cell_type": "code",
   "execution_count": 53,
   "metadata": {},
   "outputs": [
    {
     "data": {
      "text/plain": [
       "count    10999.000000\n",
       "mean         4.054459\n",
       "std          1.141490\n",
       "min          2.000000\n",
       "25%          3.000000\n",
       "50%          4.000000\n",
       "75%          5.000000\n",
       "max          7.000000\n",
       "Name: Customer_care_calls, dtype: float64"
      ]
     },
     "execution_count": 53,
     "metadata": {},
     "output_type": "execute_result"
    }
   ],
   "source": [
    "df_ecommerce['Customer_care_calls'].describe()\n",
    "\n",
    "# durchschnitt 4.05 mit standartabweichung 1.14"
   ]
  },
  {
   "cell_type": "code",
   "execution_count": 54,
   "metadata": {},
   "outputs": [
    {
     "data": {
      "text/plain": [
       "<seaborn.axisgrid.FacetGrid at 0x22bc1ae0e90>"
      ]
     },
     "execution_count": 54,
     "metadata": {},
     "output_type": "execute_result"
    },
    {
     "data": {
      "image/png": "[encoded data removed]",
      "text/plain": [
       "<Figure size 500x500 with 1 Axes>"
      ]
     },
     "metadata": {},
     "output_type": "display_data"
    }
   ],
   "source": [
    "sns.displot(df_ecommerce['Customer_care_calls'])"
   ]
  },
  {
   "attachments": {},
   "cell_type": "markdown",
   "metadata": {},
   "source": [
    "Cost of Product:"
   ]
  },
  {
   "cell_type": "code",
   "execution_count": 55,
   "metadata": {},
   "outputs": [
    {
     "data": {
      "text/plain": [
       "count    10999.000000\n",
       "mean       210.196836\n",
       "std         48.063272\n",
       "min         96.000000\n",
       "25%        169.000000\n",
       "50%        214.000000\n",
       "75%        251.000000\n",
       "max        310.000000\n",
       "Name: Cost_of_the_Product, dtype: float64"
      ]
     },
     "execution_count": 55,
     "metadata": {},
     "output_type": "execute_result"
    }
   ],
   "source": [
    "df_ecommerce['Cost_of_the_Product'].describe()"
   ]
  },
  {
   "cell_type": "code",
   "execution_count": 56,
   "metadata": {},
   "outputs": [
    {
     "data": {
      "text/plain": [
       "<seaborn.axisgrid.FacetGrid at 0x22bc18c38d0>"
      ]
     },
     "execution_count": 56,
     "metadata": {},
     "output_type": "execute_result"
    },
    {
     "data": {
      "image/png": "[encoded data removed]",
      "text/plain": [
       "<Figure size 500x500 with 1 Axes>"
      ]
     },
     "metadata": {},
     "output_type": "display_data"
    }
   ],
   "source": [
    "sns.displot(df_ecommerce['Cost_of_the_Product'])"
   ]
  },
  {
   "attachments": {},
   "cell_type": "markdown",
   "metadata": {},
   "source": [
    "Product Importance:"
   ]
  },
  {
   "cell_type": "code",
   "execution_count": 57,
   "metadata": {},
   "outputs": [
    {
     "data": {
      "text/plain": [
       "count     10999\n",
       "unique        3\n",
       "top         low\n",
       "freq       5297\n",
       "Name: Product_importance, dtype: object"
      ]
     },
     "execution_count": 57,
     "metadata": {},
     "output_type": "execute_result"
    }
   ],
   "source": [
    "df_ecommerce['Product_importance'].describe()"
   ]
  },
  {
   "cell_type": "code",
   "execution_count": 58,
   "metadata": {},
   "outputs": [
    {
     "data": {
      "text/plain": [
       "<seaborn.axisgrid.FacetGrid at 0x22bbe407cd0>"
      ]
     },
     "execution_count": 58,
     "metadata": {},
     "output_type": "execute_result"
    },
    {
     "data": {
      "image/png": "[encoded data removed]",
      "text/plain": [
       "<Figure size 500x500 with 1 Axes>"
      ]
     },
     "metadata": {},
     "output_type": "display_data"
    }
   ],
   "source": [
    "sns.displot(df_ecommerce['Product_importance'])\n",
    "\n",
    "#low 5297, medium ~4800, high ~900"
   ]
  },
  {
   "attachments": {},
   "cell_type": "markdown",
   "metadata": {},
   "source": [
    "Gender:"
   ]
  },
  {
   "cell_type": "code",
   "execution_count": 59,
   "metadata": {},
   "outputs": [
    {
     "data": {
      "text/plain": [
       "count     10999\n",
       "unique        2\n",
       "top           F\n",
       "freq       5545\n",
       "Name: Gender, dtype: object"
      ]
     },
     "execution_count": 59,
     "metadata": {},
     "output_type": "execute_result"
    }
   ],
   "source": [
    "df_ecommerce['Gender'].describe()\n",
    "\n",
    "# Female 5545, Male 5454 also ~50/50"
   ]
  },
  {
   "attachments": {},
   "cell_type": "markdown",
   "metadata": {},
   "source": [
    "Discount offered: "
   ]
  },
  {
   "cell_type": "code",
   "execution_count": 60,
   "metadata": {},
   "outputs": [
    {
     "data": {
      "text/plain": [
       "count    10999.000000\n",
       "mean        13.373216\n",
       "std         16.205527\n",
       "min          1.000000\n",
       "25%          4.000000\n",
       "50%          7.000000\n",
       "75%         10.000000\n",
       "max         65.000000\n",
       "Name: Discount_offered, dtype: float64"
      ]
     },
     "execution_count": 60,
     "metadata": {},
     "output_type": "execute_result"
    }
   ],
   "source": [
    "df_ecommerce['Discount_offered'].describe()"
   ]
  },
  {
   "cell_type": "code",
   "execution_count": 61,
   "metadata": {},
   "outputs": [
    {
     "data": {
      "text/plain": [
       "<seaborn.axisgrid.FacetGrid at 0x22bc16e1610>"
      ]
     },
     "execution_count": 61,
     "metadata": {},
     "output_type": "execute_result"
    },
    {
     "data": {
      "image/png": "[encoded data removed]",
      "text/plain": [
       "<Figure size 500x500 with 1 Axes>"
      ]
     },
     "metadata": {},
     "output_type": "display_data"
    }
   ],
   "source": [
    "sns.displot(df_ecommerce['Discount_offered'])\n",
    "\n",
    "#mehrheitlich(75%) weniger als 10%"
   ]
  },
  {
   "attachments": {},
   "cell_type": "markdown",
   "metadata": {},
   "source": [
    "Weight in gms:"
   ]
  },
  {
   "cell_type": "code",
   "execution_count": 62,
   "metadata": {},
   "outputs": [
    {
     "data": {
      "text/plain": [
       "count    10999.000000\n",
       "mean      3634.016729\n",
       "std       1635.377251\n",
       "min       1001.000000\n",
       "25%       1839.500000\n",
       "50%       4149.000000\n",
       "75%       5050.000000\n",
       "max       7846.000000\n",
       "Name: Weight_in_gms, dtype: float64"
      ]
     },
     "execution_count": 62,
     "metadata": {},
     "output_type": "execute_result"
    }
   ],
   "source": [
    "df_ecommerce['Weight_in_gms'].describe()"
   ]
  },
  {
   "cell_type": "code",
   "execution_count": 63,
   "metadata": {},
   "outputs": [
    {
     "data": {
      "text/plain": [
       "<seaborn.axisgrid.FacetGrid at 0x22bc1f9d550>"
      ]
     },
     "execution_count": 63,
     "metadata": {},
     "output_type": "execute_result"
    },
    {
     "data": {
      "image/png": "[encoded data removed]",
      "text/plain": [
       "<Figure size 500x500 with 1 Axes>"
      ]
     },
     "metadata": {},
     "output_type": "display_data"
    }
   ],
   "source": [
    "sns.displot(df_ecommerce['Weight_in_gms'])\n",
    "\n",
    "#viel wiegt unter 2000 und viel zwischen 4000 - 6000\n",
    "\n",
    "#TODO wie viel genau und Zusammenhänge(?)"
   ]
  },
  {
   "attachments": {},
   "cell_type": "markdown",
   "metadata": {},
   "source": [
    "Reached on time:"
   ]
  },
  {
   "cell_type": "code",
   "execution_count": 64,
   "metadata": {},
   "outputs": [
    {
     "data": {
      "text/plain": [
       "count    10999.000000\n",
       "mean         0.596691\n",
       "std          0.490584\n",
       "min          0.000000\n",
       "25%          0.000000\n",
       "50%          1.000000\n",
       "75%          1.000000\n",
       "max          1.000000\n",
       "Name: Reached.on.Time_Y.N, dtype: float64"
      ]
     },
     "execution_count": 64,
     "metadata": {},
     "output_type": "execute_result"
    }
   ],
   "source": [
    "df_ecommerce['Reached.on.Time_Y.N'].describe()"
   ]
  },
  {
   "cell_type": "code",
   "execution_count": 65,
   "metadata": {},
   "outputs": [
    {
     "data": {
      "text/html": [
       "<div>\n",
       "<style scoped>\n",
       "    .dataframe tbody tr th:only-of-type {\n",
       "        vertical-align: middle;\n",
       "    }\n",
       "\n",
       "    .dataframe tbody tr th {\n",
       "        vertical-align: top;\n",
       "    }\n",
       "\n",
       "    .dataframe thead th {\n",
       "        text-align: right;\n",
       "    }\n",
       "</style>\n",
       "<table border=\"1\" class=\"dataframe\">\n",
       "  <thead>\n",
       "    <tr style=\"text-align: right;\">\n",
       "      <th></th>\n",
       "      <th>ID</th>\n",
       "    </tr>\n",
       "    <tr>\n",
       "      <th>Reached.on.Time_Y.N</th>\n",
       "      <th></th>\n",
       "    </tr>\n",
       "  </thead>\n",
       "  <tbody>\n",
       "    <tr>\n",
       "      <th>0</th>\n",
       "      <td>4436</td>\n",
       "    </tr>\n",
       "    <tr>\n",
       "      <th>1</th>\n",
       "      <td>6563</td>\n",
       "    </tr>\n",
       "  </tbody>\n",
       "</table>\n",
       "</div>"
      ],
      "text/plain": [
       "                       ID\n",
       "Reached.on.Time_Y.N      \n",
       "0                    4436\n",
       "1                    6563"
      ]
     },
     "execution_count": 65,
     "metadata": {},
     "output_type": "execute_result"
    }
   ],
   "source": [
    "df_ontime = pd.read_csv(\"E-Commerce Shipping_data.csv\", usecols=['ID','Reached.on.Time_Y.N'])\n",
    "df_ontime.groupby(['Reached.on.Time_Y.N']).count()\n",
    "\n",
    "#4436 sind nicht on time angekommen, 6563 sind es"
   ]
  },
  {
   "attachments": {},
   "cell_type": "markdown",
   "metadata": {},
   "source": [
    "Korrelation zwischen Customer Rating und Cost of Product:"
   ]
  },
  {
   "cell_type": "code",
   "execution_count": 66,
   "metadata": {},
   "outputs": [
    {
     "data": {
      "text/plain": [
       "(-0.5, 214.5, 0.0, 6.0)"
      ]
     },
     "execution_count": 66,
     "metadata": {},
     "output_type": "execute_result"
    },
    {
     "data": {
      "image/png": "[encoded data removed]",
      "text/plain": [
       "<Figure size 10000x2000 with 1 Axes>"
      ]
     },
     "metadata": {},
     "output_type": "display_data"
    }
   ],
   "source": [
    "cost = 'Cost_of_the_Product'\n",
    "rating = 'Customer_rating'\n",
    "data = pd.concat([df_ecommerce[cost], df_ecommerce[rating]], axis=1)\n",
    "f, ax = plt.subplots(figsize=(100, 20))\n",
    "fig = sns.boxplot(x=cost, y=rating, data=data)\n",
    "fig.axis(ymin=0, ymax=6)\n",
    "\n",
    "# korreliert nicht\n",
    "\n",
    "#TODO Nicht-Korrelation besser beweisen/veranschaulichen"
   ]
  },
  {
   "attachments": {},
   "cell_type": "markdown",
   "metadata": {},
   "source": [
    "Korrelation zwischen Customer Rating und Customer Calls:"
   ]
  },
  {
   "cell_type": "code",
   "execution_count": 67,
   "metadata": {},
   "outputs": [
    {
     "data": {
      "text/plain": [
       "(-0.5, 5.5, 0.0, 6.0)"
      ]
     },
     "execution_count": 67,
     "metadata": {},
     "output_type": "execute_result"
    },
    {
     "data": {
      "image/png": "[encoded data removed]",
      "text/plain": [
       "<Figure size 2000x1000 with 1 Axes>"
      ]
     },
     "metadata": {},
     "output_type": "display_data"
    }
   ],
   "source": [
    "calls = 'Customer_care_calls'\n",
    "rating = 'Customer_rating'\n",
    "data = pd.concat([df_ecommerce[calls], df_ecommerce[rating]], axis=1)\n",
    "f, ax = plt.subplots(figsize=(20, 10))\n",
    "fig = sns.boxplot(x=calls, y=rating, data=data)\n",
    "fig.axis(ymin=0, ymax=6)\n",
    "\n",
    "#korreliert nicht"
   ]
  },
  {
   "attachments": {},
   "cell_type": "markdown",
   "metadata": {},
   "source": [
    "Korrelation von Costs:"
   ]
  },
  {
   "attachments": {},
   "cell_type": "markdown",
   "metadata": {},
   "source": [
    "Korrelation von Reached on Time:"
   ]
  },
  {
   "cell_type": "code",
   "execution_count": 68,
   "metadata": {},
   "outputs": [],
   "source": [
    "#kann erst nach data transformation gecheckt werden da str werte!!!"
   ]
  },
  {
   "attachments": {},
   "cell_type": "markdown",
   "metadata": {},
   "source": [
    "Data Cleansing:"
   ]
  },
  {
   "cell_type": "code",
   "execution_count": 69,
   "metadata": {},
   "outputs": [
    {
     "data": {
      "text/html": [
       "<div>\n",
       "<style scoped>\n",
       "    .dataframe tbody tr th:only-of-type {\n",
       "        vertical-align: middle;\n",
       "    }\n",
       "\n",
       "    .dataframe tbody tr th {\n",
       "        vertical-align: top;\n",
       "    }\n",
       "\n",
       "    .dataframe thead th {\n",
       "        text-align: right;\n",
       "    }\n",
       "</style>\n",
       "<table border=\"1\" class=\"dataframe\">\n",
       "  <thead>\n",
       "    <tr style=\"text-align: right;\">\n",
       "      <th></th>\n",
       "      <th>Warehouse_block</th>\n",
       "      <th>Mode_of_Shipment</th>\n",
       "      <th>Customer_care_calls</th>\n",
       "      <th>Customer_rating</th>\n",
       "      <th>Cost_of_the_Product</th>\n",
       "      <th>Prior_purchases</th>\n",
       "      <th>Product_importance</th>\n",
       "      <th>Gender</th>\n",
       "      <th>Discount_offered</th>\n",
       "      <th>Weight_in_gms</th>\n",
       "      <th>Reached.on.Time_Y.N</th>\n",
       "    </tr>\n",
       "    <tr>\n",
       "      <th>ID</th>\n",
       "      <th></th>\n",
       "      <th></th>\n",
       "      <th></th>\n",
       "      <th></th>\n",
       "      <th></th>\n",
       "      <th></th>\n",
       "      <th></th>\n",
       "      <th></th>\n",
       "      <th></th>\n",
       "      <th></th>\n",
       "      <th></th>\n",
       "    </tr>\n",
       "  </thead>\n",
       "  <tbody>\n",
       "    <tr>\n",
       "      <th>1</th>\n",
       "      <td>D</td>\n",
       "      <td>Flight</td>\n",
       "      <td>4</td>\n",
       "      <td>2</td>\n",
       "      <td>177</td>\n",
       "      <td>3</td>\n",
       "      <td>low</td>\n",
       "      <td>F</td>\n",
       "      <td>44</td>\n",
       "      <td>1233</td>\n",
       "      <td>1</td>\n",
       "    </tr>\n",
       "    <tr>\n",
       "      <th>2</th>\n",
       "      <td>F</td>\n",
       "      <td>Flight</td>\n",
       "      <td>4</td>\n",
       "      <td>5</td>\n",
       "      <td>216</td>\n",
       "      <td>2</td>\n",
       "      <td>low</td>\n",
       "      <td>M</td>\n",
       "      <td>59</td>\n",
       "      <td>3088</td>\n",
       "      <td>1</td>\n",
       "    </tr>\n",
       "    <tr>\n",
       "      <th>3</th>\n",
       "      <td>A</td>\n",
       "      <td>Flight</td>\n",
       "      <td>2</td>\n",
       "      <td>2</td>\n",
       "      <td>183</td>\n",
       "      <td>4</td>\n",
       "      <td>low</td>\n",
       "      <td>M</td>\n",
       "      <td>48</td>\n",
       "      <td>3374</td>\n",
       "      <td>1</td>\n",
       "    </tr>\n",
       "    <tr>\n",
       "      <th>4</th>\n",
       "      <td>B</td>\n",
       "      <td>Flight</td>\n",
       "      <td>3</td>\n",
       "      <td>3</td>\n",
       "      <td>176</td>\n",
       "      <td>4</td>\n",
       "      <td>medium</td>\n",
       "      <td>M</td>\n",
       "      <td>10</td>\n",
       "      <td>1177</td>\n",
       "      <td>1</td>\n",
       "    </tr>\n",
       "    <tr>\n",
       "      <th>5</th>\n",
       "      <td>C</td>\n",
       "      <td>Flight</td>\n",
       "      <td>2</td>\n",
       "      <td>2</td>\n",
       "      <td>184</td>\n",
       "      <td>3</td>\n",
       "      <td>medium</td>\n",
       "      <td>F</td>\n",
       "      <td>46</td>\n",
       "      <td>2484</td>\n",
       "      <td>1</td>\n",
       "    </tr>\n",
       "    <tr>\n",
       "      <th>...</th>\n",
       "      <td>...</td>\n",
       "      <td>...</td>\n",
       "      <td>...</td>\n",
       "      <td>...</td>\n",
       "      <td>...</td>\n",
       "      <td>...</td>\n",
       "      <td>...</td>\n",
       "      <td>...</td>\n",
       "      <td>...</td>\n",
       "      <td>...</td>\n",
       "      <td>...</td>\n",
       "    </tr>\n",
       "    <tr>\n",
       "      <th>10995</th>\n",
       "      <td>A</td>\n",
       "      <td>Ship</td>\n",
       "      <td>4</td>\n",
       "      <td>1</td>\n",
       "      <td>252</td>\n",
       "      <td>5</td>\n",
       "      <td>medium</td>\n",
       "      <td>F</td>\n",
       "      <td>1</td>\n",
       "      <td>1538</td>\n",
       "      <td>1</td>\n",
       "    </tr>\n",
       "    <tr>\n",
       "      <th>10996</th>\n",
       "      <td>B</td>\n",
       "      <td>Ship</td>\n",
       "      <td>4</td>\n",
       "      <td>1</td>\n",
       "      <td>232</td>\n",
       "      <td>5</td>\n",
       "      <td>medium</td>\n",
       "      <td>F</td>\n",
       "      <td>6</td>\n",
       "      <td>1247</td>\n",
       "      <td>0</td>\n",
       "    </tr>\n",
       "    <tr>\n",
       "      <th>10997</th>\n",
       "      <td>C</td>\n",
       "      <td>Ship</td>\n",
       "      <td>5</td>\n",
       "      <td>4</td>\n",
       "      <td>242</td>\n",
       "      <td>5</td>\n",
       "      <td>low</td>\n",
       "      <td>F</td>\n",
       "      <td>4</td>\n",
       "      <td>1155</td>\n",
       "      <td>0</td>\n",
       "    </tr>\n",
       "    <tr>\n",
       "      <th>10998</th>\n",
       "      <td>F</td>\n",
       "      <td>Ship</td>\n",
       "      <td>5</td>\n",
       "      <td>2</td>\n",
       "      <td>223</td>\n",
       "      <td>6</td>\n",
       "      <td>medium</td>\n",
       "      <td>M</td>\n",
       "      <td>2</td>\n",
       "      <td>1210</td>\n",
       "      <td>0</td>\n",
       "    </tr>\n",
       "    <tr>\n",
       "      <th>10999</th>\n",
       "      <td>D</td>\n",
       "      <td>Ship</td>\n",
       "      <td>2</td>\n",
       "      <td>5</td>\n",
       "      <td>155</td>\n",
       "      <td>5</td>\n",
       "      <td>low</td>\n",
       "      <td>F</td>\n",
       "      <td>6</td>\n",
       "      <td>1639</td>\n",
       "      <td>0</td>\n",
       "    </tr>\n",
       "  </tbody>\n",
       "</table>\n",
       "<p>10999 rows × 11 columns</p>\n",
       "</div>"
      ],
      "text/plain": [
       "      Warehouse_block Mode_of_Shipment  Customer_care_calls  Customer_rating   \n",
       "ID                                                                             \n",
       "1                   D           Flight                    4                2  \\\n",
       "2                   F           Flight                    4                5   \n",
       "3                   A           Flight                    2                2   \n",
       "4                   B           Flight                    3                3   \n",
       "5                   C           Flight                    2                2   \n",
       "...               ...              ...                  ...              ...   \n",
       "10995               A             Ship                    4                1   \n",
       "10996               B             Ship                    4                1   \n",
       "10997               C             Ship                    5                4   \n",
       "10998               F             Ship                    5                2   \n",
       "10999               D             Ship                    2                5   \n",
       "\n",
       "       Cost_of_the_Product  Prior_purchases Product_importance Gender   \n",
       "ID                                                                      \n",
       "1                      177                3                low      F  \\\n",
       "2                      216                2                low      M   \n",
       "3                      183                4                low      M   \n",
       "4                      176                4             medium      M   \n",
       "5                      184                3             medium      F   \n",
       "...                    ...              ...                ...    ...   \n",
       "10995                  252                5             medium      F   \n",
       "10996                  232                5             medium      F   \n",
       "10997                  242                5                low      F   \n",
       "10998                  223                6             medium      M   \n",
       "10999                  155                5                low      F   \n",
       "\n",
       "       Discount_offered  Weight_in_gms  Reached.on.Time_Y.N  \n",
       "ID                                                           \n",
       "1                    44           1233                    1  \n",
       "2                    59           3088                    1  \n",
       "3                    48           3374                    1  \n",
       "4                    10           1177                    1  \n",
       "5                    46           2484                    1  \n",
       "...                 ...            ...                  ...  \n",
       "10995                 1           1538                    1  \n",
       "10996                 6           1247                    0  \n",
       "10997                 4           1155                    0  \n",
       "10998                 2           1210                    0  \n",
       "10999                 6           1639                    0  \n",
       "\n",
       "[10999 rows x 11 columns]"
      ]
     },
     "execution_count": 69,
     "metadata": {},
     "output_type": "execute_result"
    }
   ],
   "source": [
    "df = pd.read_csv(\"E-Commerce Shipping_data.csv\", index_col=0)\n",
    "df"
   ]
  },
  {
   "cell_type": "code",
   "execution_count": 70,
   "metadata": {},
   "outputs": [
    {
     "data": {
      "text/plain": [
       "Warehouse_block        0\n",
       "Mode_of_Shipment       0\n",
       "Customer_care_calls    0\n",
       "Customer_rating        0\n",
       "Cost_of_the_Product    0\n",
       "Prior_purchases        0\n",
       "Product_importance     0\n",
       "Gender                 0\n",
       "Discount_offered       0\n",
       "Weight_in_gms          0\n",
       "Reached.on.Time_Y.N    0\n",
       "dtype: int64"
      ]
     },
     "execution_count": 70,
     "metadata": {},
     "output_type": "execute_result"
    }
   ],
   "source": [
    "df.isnull().sum()\n",
    "\n",
    "#TODO more cleaning tests\n",
    "\n",
    "#daten vollständig"
   ]
  },
  {
   "cell_type": "code",
   "execution_count": 71,
   "metadata": {},
   "outputs": [
    {
     "data": {
      "text/plain": [
       "0"
      ]
     },
     "execution_count": 71,
     "metadata": {},
     "output_type": "execute_result"
    }
   ],
   "source": [
    "df.duplicated().sum()"
   ]
  },
  {
   "cell_type": "code",
   "execution_count": 72,
   "metadata": {},
   "outputs": [],
   "source": [
    "#TODO vllt manche kategorien rausnehmen weil unwichtig ?\n",
    "#TODO outlier testen\n",
    "#TODO testen ob performance verbessert oder nicht?"
   ]
  },
  {
   "attachments": {},
   "cell_type": "markdown",
   "metadata": {},
   "source": [
    "Data Transformation:"
   ]
  },
  {
   "attachments": {},
   "cell_type": "markdown",
   "metadata": {},
   "source": [
    "MultiLabelEncoder:"
   ]
  },
  {
   "cell_type": "code",
   "execution_count": 73,
   "metadata": {},
   "outputs": [],
   "source": [
    "from sklearn.pipeline import Pipeline \n",
    "from sklearn.preprocessing import LabelEncoder\n",
    "\n",
    "le = LabelEncoder() #Initalization as shortcut 'le'\n",
    "\n",
    "class MultiColumnLabelEncoder:\n",
    "    def __init__(self,columns = None):\n",
    "        self.columns = columns # array of column names to encode\n",
    "\n",
    "    def fit(self,X,y=None):\n",
    "        return self\n",
    "\n",
    "    def transform(self,X):\n",
    "        '''\n",
    "        Transforms columns of X specified in self.columns using\n",
    "        LabelEncoder(). If no columns specified, transforms all\n",
    "        columns in X.\n",
    "        '''\n",
    "        output = X.copy()\n",
    "        if self.columns is not None:\n",
    "            for col in self.columns:\n",
    "                output[col] = le.fit_transform(output[col])\n",
    "        else:\n",
    "            for colname,col in output.iteritems():\n",
    "                output[colname] = le.fit_transform(col)\n",
    "        return output\n",
    "\n",
    "    def fit_transform(self,X,y=None):\n",
    "        return self.fit(X,y).transform(X)"
   ]
  },
  {
   "cell_type": "code",
   "execution_count": 74,
   "metadata": {},
   "outputs": [
    {
     "data": {
      "text/html": [
       "<div>\n",
       "<style scoped>\n",
       "    .dataframe tbody tr th:only-of-type {\n",
       "        vertical-align: middle;\n",
       "    }\n",
       "\n",
       "    .dataframe tbody tr th {\n",
       "        vertical-align: top;\n",
       "    }\n",
       "\n",
       "    .dataframe thead th {\n",
       "        text-align: right;\n",
       "    }\n",
       "</style>\n",
       "<table border=\"1\" class=\"dataframe\">\n",
       "  <thead>\n",
       "    <tr style=\"text-align: right;\">\n",
       "      <th></th>\n",
       "      <th>Warehouse_block</th>\n",
       "      <th>Mode_of_Shipment</th>\n",
       "      <th>Customer_care_calls</th>\n",
       "      <th>Customer_rating</th>\n",
       "      <th>Cost_of_the_Product</th>\n",
       "      <th>Prior_purchases</th>\n",
       "      <th>Product_importance</th>\n",
       "      <th>Gender</th>\n",
       "      <th>Discount_offered</th>\n",
       "      <th>Weight_in_gms</th>\n",
       "      <th>Reached.on.Time_Y.N</th>\n",
       "    </tr>\n",
       "    <tr>\n",
       "      <th>ID</th>\n",
       "      <th></th>\n",
       "      <th></th>\n",
       "      <th></th>\n",
       "      <th></th>\n",
       "      <th></th>\n",
       "      <th></th>\n",
       "      <th></th>\n",
       "      <th></th>\n",
       "      <th></th>\n",
       "      <th></th>\n",
       "      <th></th>\n",
       "    </tr>\n",
       "  </thead>\n",
       "  <tbody>\n",
       "    <tr>\n",
       "      <th>1</th>\n",
       "      <td>D</td>\n",
       "      <td>Flight</td>\n",
       "      <td>4</td>\n",
       "      <td>2</td>\n",
       "      <td>177</td>\n",
       "      <td>3</td>\n",
       "      <td>1</td>\n",
       "      <td>0</td>\n",
       "      <td>44</td>\n",
       "      <td>1233</td>\n",
       "      <td>1</td>\n",
       "    </tr>\n",
       "    <tr>\n",
       "      <th>2</th>\n",
       "      <td>F</td>\n",
       "      <td>Flight</td>\n",
       "      <td>4</td>\n",
       "      <td>5</td>\n",
       "      <td>216</td>\n",
       "      <td>2</td>\n",
       "      <td>1</td>\n",
       "      <td>1</td>\n",
       "      <td>59</td>\n",
       "      <td>3088</td>\n",
       "      <td>1</td>\n",
       "    </tr>\n",
       "    <tr>\n",
       "      <th>3</th>\n",
       "      <td>A</td>\n",
       "      <td>Flight</td>\n",
       "      <td>2</td>\n",
       "      <td>2</td>\n",
       "      <td>183</td>\n",
       "      <td>4</td>\n",
       "      <td>1</td>\n",
       "      <td>1</td>\n",
       "      <td>48</td>\n",
       "      <td>3374</td>\n",
       "      <td>1</td>\n",
       "    </tr>\n",
       "    <tr>\n",
       "      <th>4</th>\n",
       "      <td>B</td>\n",
       "      <td>Flight</td>\n",
       "      <td>3</td>\n",
       "      <td>3</td>\n",
       "      <td>176</td>\n",
       "      <td>4</td>\n",
       "      <td>2</td>\n",
       "      <td>1</td>\n",
       "      <td>10</td>\n",
       "      <td>1177</td>\n",
       "      <td>1</td>\n",
       "    </tr>\n",
       "    <tr>\n",
       "      <th>5</th>\n",
       "      <td>C</td>\n",
       "      <td>Flight</td>\n",
       "      <td>2</td>\n",
       "      <td>2</td>\n",
       "      <td>184</td>\n",
       "      <td>3</td>\n",
       "      <td>2</td>\n",
       "      <td>0</td>\n",
       "      <td>46</td>\n",
       "      <td>2484</td>\n",
       "      <td>1</td>\n",
       "    </tr>\n",
       "    <tr>\n",
       "      <th>...</th>\n",
       "      <td>...</td>\n",
       "      <td>...</td>\n",
       "      <td>...</td>\n",
       "      <td>...</td>\n",
       "      <td>...</td>\n",
       "      <td>...</td>\n",
       "      <td>...</td>\n",
       "      <td>...</td>\n",
       "      <td>...</td>\n",
       "      <td>...</td>\n",
       "      <td>...</td>\n",
       "    </tr>\n",
       "    <tr>\n",
       "      <th>10995</th>\n",
       "      <td>A</td>\n",
       "      <td>Ship</td>\n",
       "      <td>4</td>\n",
       "      <td>1</td>\n",
       "      <td>252</td>\n",
       "      <td>5</td>\n",
       "      <td>2</td>\n",
       "      <td>0</td>\n",
       "      <td>1</td>\n",
       "      <td>1538</td>\n",
       "      <td>1</td>\n",
       "    </tr>\n",
       "    <tr>\n",
       "      <th>10996</th>\n",
       "      <td>B</td>\n",
       "      <td>Ship</td>\n",
       "      <td>4</td>\n",
       "      <td>1</td>\n",
       "      <td>232</td>\n",
       "      <td>5</td>\n",
       "      <td>2</td>\n",
       "      <td>0</td>\n",
       "      <td>6</td>\n",
       "      <td>1247</td>\n",
       "      <td>0</td>\n",
       "    </tr>\n",
       "    <tr>\n",
       "      <th>10997</th>\n",
       "      <td>C</td>\n",
       "      <td>Ship</td>\n",
       "      <td>5</td>\n",
       "      <td>4</td>\n",
       "      <td>242</td>\n",
       "      <td>5</td>\n",
       "      <td>1</td>\n",
       "      <td>0</td>\n",
       "      <td>4</td>\n",
       "      <td>1155</td>\n",
       "      <td>0</td>\n",
       "    </tr>\n",
       "    <tr>\n",
       "      <th>10998</th>\n",
       "      <td>F</td>\n",
       "      <td>Ship</td>\n",
       "      <td>5</td>\n",
       "      <td>2</td>\n",
       "      <td>223</td>\n",
       "      <td>6</td>\n",
       "      <td>2</td>\n",
       "      <td>1</td>\n",
       "      <td>2</td>\n",
       "      <td>1210</td>\n",
       "      <td>0</td>\n",
       "    </tr>\n",
       "    <tr>\n",
       "      <th>10999</th>\n",
       "      <td>D</td>\n",
       "      <td>Ship</td>\n",
       "      <td>2</td>\n",
       "      <td>5</td>\n",
       "      <td>155</td>\n",
       "      <td>5</td>\n",
       "      <td>1</td>\n",
       "      <td>0</td>\n",
       "      <td>6</td>\n",
       "      <td>1639</td>\n",
       "      <td>0</td>\n",
       "    </tr>\n",
       "  </tbody>\n",
       "</table>\n",
       "<p>10999 rows × 11 columns</p>\n",
       "</div>"
      ],
      "text/plain": [
       "      Warehouse_block Mode_of_Shipment  Customer_care_calls  Customer_rating   \n",
       "ID                                                                             \n",
       "1                   D           Flight                    4                2  \\\n",
       "2                   F           Flight                    4                5   \n",
       "3                   A           Flight                    2                2   \n",
       "4                   B           Flight                    3                3   \n",
       "5                   C           Flight                    2                2   \n",
       "...               ...              ...                  ...              ...   \n",
       "10995               A             Ship                    4                1   \n",
       "10996               B             Ship                    4                1   \n",
       "10997               C             Ship                    5                4   \n",
       "10998               F             Ship                    5                2   \n",
       "10999               D             Ship                    2                5   \n",
       "\n",
       "       Cost_of_the_Product  Prior_purchases  Product_importance  Gender   \n",
       "ID                                                                        \n",
       "1                      177                3                   1       0  \\\n",
       "2                      216                2                   1       1   \n",
       "3                      183                4                   1       1   \n",
       "4                      176                4                   2       1   \n",
       "5                      184                3                   2       0   \n",
       "...                    ...              ...                 ...     ...   \n",
       "10995                  252                5                   2       0   \n",
       "10996                  232                5                   2       0   \n",
       "10997                  242                5                   1       0   \n",
       "10998                  223                6                   2       1   \n",
       "10999                  155                5                   1       0   \n",
       "\n",
       "       Discount_offered  Weight_in_gms  Reached.on.Time_Y.N  \n",
       "ID                                                           \n",
       "1                    44           1233                    1  \n",
       "2                    59           3088                    1  \n",
       "3                    48           3374                    1  \n",
       "4                    10           1177                    1  \n",
       "5                    46           2484                    1  \n",
       "...                 ...            ...                  ...  \n",
       "10995                 1           1538                    1  \n",
       "10996                 6           1247                    0  \n",
       "10997                 4           1155                    0  \n",
       "10998                 2           1210                    0  \n",
       "10999                 6           1639                    0  \n",
       "\n",
       "[10999 rows x 11 columns]"
      ]
     },
     "execution_count": 74,
     "metadata": {},
     "output_type": "execute_result"
    }
   ],
   "source": [
    "df = MultiColumnLabelEncoder(columns= ['Product_importance', 'Gender']).fit_transform(df)\n",
    "df"
   ]
  },
  {
   "cell_type": "code",
   "execution_count": 75,
   "metadata": {},
   "outputs": [
    {
     "data": {
      "text/html": [
       "<div>\n",
       "<style scoped>\n",
       "    .dataframe tbody tr th:only-of-type {\n",
       "        vertical-align: middle;\n",
       "    }\n",
       "\n",
       "    .dataframe tbody tr th {\n",
       "        vertical-align: top;\n",
       "    }\n",
       "\n",
       "    .dataframe thead th {\n",
       "        text-align: right;\n",
       "    }\n",
       "</style>\n",
       "<table border=\"1\" class=\"dataframe\">\n",
       "  <thead>\n",
       "    <tr style=\"text-align: right;\">\n",
       "      <th></th>\n",
       "      <th>Customer_care_calls</th>\n",
       "      <th>Customer_rating</th>\n",
       "      <th>Cost_of_the_Product</th>\n",
       "      <th>Prior_purchases</th>\n",
       "      <th>Product_importance</th>\n",
       "      <th>Gender</th>\n",
       "      <th>Discount_offered</th>\n",
       "      <th>Weight_in_gms</th>\n",
       "      <th>Reached.on.Time_Y.N</th>\n",
       "      <th>Warehouse_block_A</th>\n",
       "      <th>Warehouse_block_B</th>\n",
       "      <th>Warehouse_block_C</th>\n",
       "      <th>Warehouse_block_D</th>\n",
       "      <th>Warehouse_block_F</th>\n",
       "      <th>Mode_of_Shipment_Flight</th>\n",
       "      <th>Mode_of_Shipment_Road</th>\n",
       "      <th>Mode_of_Shipment_Ship</th>\n",
       "    </tr>\n",
       "    <tr>\n",
       "      <th>ID</th>\n",
       "      <th></th>\n",
       "      <th></th>\n",
       "      <th></th>\n",
       "      <th></th>\n",
       "      <th></th>\n",
       "      <th></th>\n",
       "      <th></th>\n",
       "      <th></th>\n",
       "      <th></th>\n",
       "      <th></th>\n",
       "      <th></th>\n",
       "      <th></th>\n",
       "      <th></th>\n",
       "      <th></th>\n",
       "      <th></th>\n",
       "      <th></th>\n",
       "      <th></th>\n",
       "    </tr>\n",
       "  </thead>\n",
       "  <tbody>\n",
       "    <tr>\n",
       "      <th>1</th>\n",
       "      <td>4</td>\n",
       "      <td>2</td>\n",
       "      <td>177</td>\n",
       "      <td>3</td>\n",
       "      <td>1</td>\n",
       "      <td>0</td>\n",
       "      <td>44</td>\n",
       "      <td>1233</td>\n",
       "      <td>1</td>\n",
       "      <td>False</td>\n",
       "      <td>False</td>\n",
       "      <td>False</td>\n",
       "      <td>True</td>\n",
       "      <td>False</td>\n",
       "      <td>True</td>\n",
       "      <td>False</td>\n",
       "      <td>False</td>\n",
       "    </tr>\n",
       "    <tr>\n",
       "      <th>2</th>\n",
       "      <td>4</td>\n",
       "      <td>5</td>\n",
       "      <td>216</td>\n",
       "      <td>2</td>\n",
       "      <td>1</td>\n",
       "      <td>1</td>\n",
       "      <td>59</td>\n",
       "      <td>3088</td>\n",
       "      <td>1</td>\n",
       "      <td>False</td>\n",
       "      <td>False</td>\n",
       "      <td>False</td>\n",
       "      <td>False</td>\n",
       "      <td>True</td>\n",
       "      <td>True</td>\n",
       "      <td>False</td>\n",
       "      <td>False</td>\n",
       "    </tr>\n",
       "    <tr>\n",
       "      <th>3</th>\n",
       "      <td>2</td>\n",
       "      <td>2</td>\n",
       "      <td>183</td>\n",
       "      <td>4</td>\n",
       "      <td>1</td>\n",
       "      <td>1</td>\n",
       "      <td>48</td>\n",
       "      <td>3374</td>\n",
       "      <td>1</td>\n",
       "      <td>True</td>\n",
       "      <td>False</td>\n",
       "      <td>False</td>\n",
       "      <td>False</td>\n",
       "      <td>False</td>\n",
       "      <td>True</td>\n",
       "      <td>False</td>\n",
       "      <td>False</td>\n",
       "    </tr>\n",
       "    <tr>\n",
       "      <th>4</th>\n",
       "      <td>3</td>\n",
       "      <td>3</td>\n",
       "      <td>176</td>\n",
       "      <td>4</td>\n",
       "      <td>2</td>\n",
       "      <td>1</td>\n",
       "      <td>10</td>\n",
       "      <td>1177</td>\n",
       "      <td>1</td>\n",
       "      <td>False</td>\n",
       "      <td>True</td>\n",
       "      <td>False</td>\n",
       "      <td>False</td>\n",
       "      <td>False</td>\n",
       "      <td>True</td>\n",
       "      <td>False</td>\n",
       "      <td>False</td>\n",
       "    </tr>\n",
       "    <tr>\n",
       "      <th>5</th>\n",
       "      <td>2</td>\n",
       "      <td>2</td>\n",
       "      <td>184</td>\n",
       "      <td>3</td>\n",
       "      <td>2</td>\n",
       "      <td>0</td>\n",
       "      <td>46</td>\n",
       "      <td>2484</td>\n",
       "      <td>1</td>\n",
       "      <td>False</td>\n",
       "      <td>False</td>\n",
       "      <td>True</td>\n",
       "      <td>False</td>\n",
       "      <td>False</td>\n",
       "      <td>True</td>\n",
       "      <td>False</td>\n",
       "      <td>False</td>\n",
       "    </tr>\n",
       "    <tr>\n",
       "      <th>...</th>\n",
       "      <td>...</td>\n",
       "      <td>...</td>\n",
       "      <td>...</td>\n",
       "      <td>...</td>\n",
       "      <td>...</td>\n",
       "      <td>...</td>\n",
       "      <td>...</td>\n",
       "      <td>...</td>\n",
       "      <td>...</td>\n",
       "      <td>...</td>\n",
       "      <td>...</td>\n",
       "      <td>...</td>\n",
       "      <td>...</td>\n",
       "      <td>...</td>\n",
       "      <td>...</td>\n",
       "      <td>...</td>\n",
       "      <td>...</td>\n",
       "    </tr>\n",
       "    <tr>\n",
       "      <th>10995</th>\n",
       "      <td>4</td>\n",
       "      <td>1</td>\n",
       "      <td>252</td>\n",
       "      <td>5</td>\n",
       "      <td>2</td>\n",
       "      <td>0</td>\n",
       "      <td>1</td>\n",
       "      <td>1538</td>\n",
       "      <td>1</td>\n",
       "      <td>True</td>\n",
       "      <td>False</td>\n",
       "      <td>False</td>\n",
       "      <td>False</td>\n",
       "      <td>False</td>\n",
       "      <td>False</td>\n",
       "      <td>False</td>\n",
       "      <td>True</td>\n",
       "    </tr>\n",
       "    <tr>\n",
       "      <th>10996</th>\n",
       "      <td>4</td>\n",
       "      <td>1</td>\n",
       "      <td>232</td>\n",
       "      <td>5</td>\n",
       "      <td>2</td>\n",
       "      <td>0</td>\n",
       "      <td>6</td>\n",
       "      <td>1247</td>\n",
       "      <td>0</td>\n",
       "      <td>False</td>\n",
       "      <td>True</td>\n",
       "      <td>False</td>\n",
       "      <td>False</td>\n",
       "      <td>False</td>\n",
       "      <td>False</td>\n",
       "      <td>False</td>\n",
       "      <td>True</td>\n",
       "    </tr>\n",
       "    <tr>\n",
       "      <th>10997</th>\n",
       "      <td>5</td>\n",
       "      <td>4</td>\n",
       "      <td>242</td>\n",
       "      <td>5</td>\n",
       "      <td>1</td>\n",
       "      <td>0</td>\n",
       "      <td>4</td>\n",
       "      <td>1155</td>\n",
       "      <td>0</td>\n",
       "      <td>False</td>\n",
       "      <td>False</td>\n",
       "      <td>True</td>\n",
       "      <td>False</td>\n",
       "      <td>False</td>\n",
       "      <td>False</td>\n",
       "      <td>False</td>\n",
       "      <td>True</td>\n",
       "    </tr>\n",
       "    <tr>\n",
       "      <th>10998</th>\n",
       "      <td>5</td>\n",
       "      <td>2</td>\n",
       "      <td>223</td>\n",
       "      <td>6</td>\n",
       "      <td>2</td>\n",
       "      <td>1</td>\n",
       "      <td>2</td>\n",
       "      <td>1210</td>\n",
       "      <td>0</td>\n",
       "      <td>False</td>\n",
       "      <td>False</td>\n",
       "      <td>False</td>\n",
       "      <td>False</td>\n",
       "      <td>True</td>\n",
       "      <td>False</td>\n",
       "      <td>False</td>\n",
       "      <td>True</td>\n",
       "    </tr>\n",
       "    <tr>\n",
       "      <th>10999</th>\n",
       "      <td>2</td>\n",
       "      <td>5</td>\n",
       "      <td>155</td>\n",
       "      <td>5</td>\n",
       "      <td>1</td>\n",
       "      <td>0</td>\n",
       "      <td>6</td>\n",
       "      <td>1639</td>\n",
       "      <td>0</td>\n",
       "      <td>False</td>\n",
       "      <td>False</td>\n",
       "      <td>False</td>\n",
       "      <td>True</td>\n",
       "      <td>False</td>\n",
       "      <td>False</td>\n",
       "      <td>False</td>\n",
       "      <td>True</td>\n",
       "    </tr>\n",
       "  </tbody>\n",
       "</table>\n",
       "<p>10999 rows × 17 columns</p>\n",
       "</div>"
      ],
      "text/plain": [
       "       Customer_care_calls  Customer_rating  Cost_of_the_Product   \n",
       "ID                                                                 \n",
       "1                        4                2                  177  \\\n",
       "2                        4                5                  216   \n",
       "3                        2                2                  183   \n",
       "4                        3                3                  176   \n",
       "5                        2                2                  184   \n",
       "...                    ...              ...                  ...   \n",
       "10995                    4                1                  252   \n",
       "10996                    4                1                  232   \n",
       "10997                    5                4                  242   \n",
       "10998                    5                2                  223   \n",
       "10999                    2                5                  155   \n",
       "\n",
       "       Prior_purchases  Product_importance  Gender  Discount_offered   \n",
       "ID                                                                     \n",
       "1                    3                   1       0                44  \\\n",
       "2                    2                   1       1                59   \n",
       "3                    4                   1       1                48   \n",
       "4                    4                   2       1                10   \n",
       "5                    3                   2       0                46   \n",
       "...                ...                 ...     ...               ...   \n",
       "10995                5                   2       0                 1   \n",
       "10996                5                   2       0                 6   \n",
       "10997                5                   1       0                 4   \n",
       "10998                6                   2       1                 2   \n",
       "10999                5                   1       0                 6   \n",
       "\n",
       "       Weight_in_gms  Reached.on.Time_Y.N  Warehouse_block_A   \n",
       "ID                                                             \n",
       "1               1233                    1              False  \\\n",
       "2               3088                    1              False   \n",
       "3               3374                    1               True   \n",
       "4               1177                    1              False   \n",
       "5               2484                    1              False   \n",
       "...              ...                  ...                ...   \n",
       "10995           1538                    1               True   \n",
       "10996           1247                    0              False   \n",
       "10997           1155                    0              False   \n",
       "10998           1210                    0              False   \n",
       "10999           1639                    0              False   \n",
       "\n",
       "       Warehouse_block_B  Warehouse_block_C  Warehouse_block_D   \n",
       "ID                                                               \n",
       "1                  False              False               True  \\\n",
       "2                  False              False              False   \n",
       "3                  False              False              False   \n",
       "4                   True              False              False   \n",
       "5                  False               True              False   \n",
       "...                  ...                ...                ...   \n",
       "10995              False              False              False   \n",
       "10996               True              False              False   \n",
       "10997              False               True              False   \n",
       "10998              False              False              False   \n",
       "10999              False              False               True   \n",
       "\n",
       "       Warehouse_block_F  Mode_of_Shipment_Flight  Mode_of_Shipment_Road   \n",
       "ID                                                                         \n",
       "1                  False                     True                  False  \\\n",
       "2                   True                     True                  False   \n",
       "3                  False                     True                  False   \n",
       "4                  False                     True                  False   \n",
       "5                  False                     True                  False   \n",
       "...                  ...                      ...                    ...   \n",
       "10995              False                    False                  False   \n",
       "10996              False                    False                  False   \n",
       "10997              False                    False                  False   \n",
       "10998               True                    False                  False   \n",
       "10999              False                    False                  False   \n",
       "\n",
       "       Mode_of_Shipment_Ship  \n",
       "ID                            \n",
       "1                      False  \n",
       "2                      False  \n",
       "3                      False  \n",
       "4                      False  \n",
       "5                      False  \n",
       "...                      ...  \n",
       "10995                   True  \n",
       "10996                   True  \n",
       "10997                   True  \n",
       "10998                   True  \n",
       "10999                   True  \n",
       "\n",
       "[10999 rows x 17 columns]"
      ]
     },
     "execution_count": 75,
     "metadata": {},
     "output_type": "execute_result"
    }
   ],
   "source": [
    "# create optimal df for ml methods for reached on time variable\n",
    "# warehouse block and mode of shipment are not ordinal so we try one hot encoding\n",
    "\n",
    "#one hot encoding:\n",
    "df_reachont = pd.get_dummies(df, columns=['Warehouse_block', 'Mode_of_Shipment'])\n",
    "df_reachont\n"
   ]
  },
  {
   "cell_type": "code",
   "execution_count": 76,
   "metadata": {},
   "outputs": [
    {
     "name": "stdout",
     "output_type": "stream",
     "text": [
      "Warehouse_block_A\n",
      "-0.009316717344488516\n",
      "Warehouse_block_B\n",
      "0.005105534337540727\n",
      "Warehouse_block_C\n",
      "0.00013234410235824285\n",
      "Warehouse_block_D\n",
      "0.0008300554623368948\n",
      "Warehouse_block_F\n",
      "0.00256821063288154\n",
      "Mode_of_Shipment_Flight\n",
      "0.004371285442705478\n",
      "Mode_of_Shipment_Road\n",
      "-0.007671487442096027\n",
      "Mode_of_Shipment_Ship\n",
      "0.0025770267459091054\n"
     ]
    }
   ],
   "source": [
    "#habe gecheckt wie sich die correlation innerhalb des attributs verhält wenn es one hot encoded ist\n",
    "\n",
    "reached = 'Reached.on.Time_Y.N'\n",
    "\n",
    "columns_cleaned = ['Warehouse_block_A',\n",
    "       'Warehouse_block_B', 'Warehouse_block_C', 'Warehouse_block_D',\n",
    "       'Warehouse_block_F', 'Mode_of_Shipment_Flight', 'Mode_of_Shipment_Road',\n",
    "       'Mode_of_Shipment_Ship']\n",
    "\n",
    "for j in columns_cleaned:\n",
    "    print(j)\n",
    "    print(df_reachont[reached].corr(df_reachont[j]))"
   ]
  },
  {
   "cell_type": "code",
   "execution_count": 77,
   "metadata": {},
   "outputs": [
    {
     "data": {
      "text/html": [
       "<div>\n",
       "<style scoped>\n",
       "    .dataframe tbody tr th:only-of-type {\n",
       "        vertical-align: middle;\n",
       "    }\n",
       "\n",
       "    .dataframe tbody tr th {\n",
       "        vertical-align: top;\n",
       "    }\n",
       "\n",
       "    .dataframe thead th {\n",
       "        text-align: right;\n",
       "    }\n",
       "</style>\n",
       "<table border=\"1\" class=\"dataframe\">\n",
       "  <thead>\n",
       "    <tr style=\"text-align: right;\">\n",
       "      <th></th>\n",
       "      <th>Customer_care_calls</th>\n",
       "      <th>Customer_rating</th>\n",
       "      <th>Cost_of_the_Product</th>\n",
       "      <th>Prior_purchases</th>\n",
       "      <th>Product_importance</th>\n",
       "      <th>Gender</th>\n",
       "      <th>Discount_offered</th>\n",
       "      <th>Weight_in_gms</th>\n",
       "      <th>Reached.on.Time_Y.N</th>\n",
       "      <th>Warehouse_block_A</th>\n",
       "      <th>Warehouse_block_B</th>\n",
       "      <th>Warehouse_block_C</th>\n",
       "      <th>Warehouse_block_D</th>\n",
       "      <th>Warehouse_block_F</th>\n",
       "      <th>Mode_of_Shipment_Flight</th>\n",
       "      <th>Mode_of_Shipment_Road</th>\n",
       "      <th>Mode_of_Shipment_Ship</th>\n",
       "    </tr>\n",
       "    <tr>\n",
       "      <th>ID</th>\n",
       "      <th></th>\n",
       "      <th></th>\n",
       "      <th></th>\n",
       "      <th></th>\n",
       "      <th></th>\n",
       "      <th></th>\n",
       "      <th></th>\n",
       "      <th></th>\n",
       "      <th></th>\n",
       "      <th></th>\n",
       "      <th></th>\n",
       "      <th></th>\n",
       "      <th></th>\n",
       "      <th></th>\n",
       "      <th></th>\n",
       "      <th></th>\n",
       "      <th></th>\n",
       "    </tr>\n",
       "  </thead>\n",
       "  <tbody>\n",
       "    <tr>\n",
       "      <th>1</th>\n",
       "      <td>0.4</td>\n",
       "      <td>0.25</td>\n",
       "      <td>0.378505</td>\n",
       "      <td>0.125</td>\n",
       "      <td>1</td>\n",
       "      <td>0</td>\n",
       "      <td>0.671875</td>\n",
       "      <td>0.033893</td>\n",
       "      <td>1</td>\n",
       "      <td>False</td>\n",
       "      <td>False</td>\n",
       "      <td>False</td>\n",
       "      <td>True</td>\n",
       "      <td>False</td>\n",
       "      <td>True</td>\n",
       "      <td>False</td>\n",
       "      <td>False</td>\n",
       "    </tr>\n",
       "    <tr>\n",
       "      <th>2</th>\n",
       "      <td>0.4</td>\n",
       "      <td>1.00</td>\n",
       "      <td>0.560748</td>\n",
       "      <td>0.000</td>\n",
       "      <td>1</td>\n",
       "      <td>1</td>\n",
       "      <td>0.906250</td>\n",
       "      <td>0.304894</td>\n",
       "      <td>1</td>\n",
       "      <td>False</td>\n",
       "      <td>False</td>\n",
       "      <td>False</td>\n",
       "      <td>False</td>\n",
       "      <td>True</td>\n",
       "      <td>True</td>\n",
       "      <td>False</td>\n",
       "      <td>False</td>\n",
       "    </tr>\n",
       "    <tr>\n",
       "      <th>3</th>\n",
       "      <td>0.0</td>\n",
       "      <td>0.25</td>\n",
       "      <td>0.406542</td>\n",
       "      <td>0.250</td>\n",
       "      <td>1</td>\n",
       "      <td>1</td>\n",
       "      <td>0.734375</td>\n",
       "      <td>0.346676</td>\n",
       "      <td>1</td>\n",
       "      <td>True</td>\n",
       "      <td>False</td>\n",
       "      <td>False</td>\n",
       "      <td>False</td>\n",
       "      <td>False</td>\n",
       "      <td>True</td>\n",
       "      <td>False</td>\n",
       "      <td>False</td>\n",
       "    </tr>\n",
       "    <tr>\n",
       "      <th>4</th>\n",
       "      <td>0.2</td>\n",
       "      <td>0.50</td>\n",
       "      <td>0.373832</td>\n",
       "      <td>0.250</td>\n",
       "      <td>2</td>\n",
       "      <td>1</td>\n",
       "      <td>0.140625</td>\n",
       "      <td>0.025712</td>\n",
       "      <td>1</td>\n",
       "      <td>False</td>\n",
       "      <td>True</td>\n",
       "      <td>False</td>\n",
       "      <td>False</td>\n",
       "      <td>False</td>\n",
       "      <td>True</td>\n",
       "      <td>False</td>\n",
       "      <td>False</td>\n",
       "    </tr>\n",
       "    <tr>\n",
       "      <th>5</th>\n",
       "      <td>0.0</td>\n",
       "      <td>0.25</td>\n",
       "      <td>0.411215</td>\n",
       "      <td>0.125</td>\n",
       "      <td>2</td>\n",
       "      <td>0</td>\n",
       "      <td>0.703125</td>\n",
       "      <td>0.216654</td>\n",
       "      <td>1</td>\n",
       "      <td>False</td>\n",
       "      <td>False</td>\n",
       "      <td>True</td>\n",
       "      <td>False</td>\n",
       "      <td>False</td>\n",
       "      <td>True</td>\n",
       "      <td>False</td>\n",
       "      <td>False</td>\n",
       "    </tr>\n",
       "    <tr>\n",
       "      <th>...</th>\n",
       "      <td>...</td>\n",
       "      <td>...</td>\n",
       "      <td>...</td>\n",
       "      <td>...</td>\n",
       "      <td>...</td>\n",
       "      <td>...</td>\n",
       "      <td>...</td>\n",
       "      <td>...</td>\n",
       "      <td>...</td>\n",
       "      <td>...</td>\n",
       "      <td>...</td>\n",
       "      <td>...</td>\n",
       "      <td>...</td>\n",
       "      <td>...</td>\n",
       "      <td>...</td>\n",
       "      <td>...</td>\n",
       "      <td>...</td>\n",
       "    </tr>\n",
       "    <tr>\n",
       "      <th>10995</th>\n",
       "      <td>0.4</td>\n",
       "      <td>0.00</td>\n",
       "      <td>0.728972</td>\n",
       "      <td>0.375</td>\n",
       "      <td>2</td>\n",
       "      <td>0</td>\n",
       "      <td>0.000000</td>\n",
       "      <td>0.078451</td>\n",
       "      <td>1</td>\n",
       "      <td>True</td>\n",
       "      <td>False</td>\n",
       "      <td>False</td>\n",
       "      <td>False</td>\n",
       "      <td>False</td>\n",
       "      <td>False</td>\n",
       "      <td>False</td>\n",
       "      <td>True</td>\n",
       "    </tr>\n",
       "    <tr>\n",
       "      <th>10996</th>\n",
       "      <td>0.4</td>\n",
       "      <td>0.00</td>\n",
       "      <td>0.635514</td>\n",
       "      <td>0.375</td>\n",
       "      <td>2</td>\n",
       "      <td>0</td>\n",
       "      <td>0.078125</td>\n",
       "      <td>0.035939</td>\n",
       "      <td>0</td>\n",
       "      <td>False</td>\n",
       "      <td>True</td>\n",
       "      <td>False</td>\n",
       "      <td>False</td>\n",
       "      <td>False</td>\n",
       "      <td>False</td>\n",
       "      <td>False</td>\n",
       "      <td>True</td>\n",
       "    </tr>\n",
       "    <tr>\n",
       "      <th>10997</th>\n",
       "      <td>0.6</td>\n",
       "      <td>0.75</td>\n",
       "      <td>0.682243</td>\n",
       "      <td>0.375</td>\n",
       "      <td>1</td>\n",
       "      <td>0</td>\n",
       "      <td>0.046875</td>\n",
       "      <td>0.022498</td>\n",
       "      <td>0</td>\n",
       "      <td>False</td>\n",
       "      <td>False</td>\n",
       "      <td>True</td>\n",
       "      <td>False</td>\n",
       "      <td>False</td>\n",
       "      <td>False</td>\n",
       "      <td>False</td>\n",
       "      <td>True</td>\n",
       "    </tr>\n",
       "    <tr>\n",
       "      <th>10998</th>\n",
       "      <td>0.6</td>\n",
       "      <td>0.25</td>\n",
       "      <td>0.593458</td>\n",
       "      <td>0.500</td>\n",
       "      <td>2</td>\n",
       "      <td>1</td>\n",
       "      <td>0.015625</td>\n",
       "      <td>0.030533</td>\n",
       "      <td>0</td>\n",
       "      <td>False</td>\n",
       "      <td>False</td>\n",
       "      <td>False</td>\n",
       "      <td>False</td>\n",
       "      <td>True</td>\n",
       "      <td>False</td>\n",
       "      <td>False</td>\n",
       "      <td>True</td>\n",
       "    </tr>\n",
       "    <tr>\n",
       "      <th>10999</th>\n",
       "      <td>0.0</td>\n",
       "      <td>1.00</td>\n",
       "      <td>0.275701</td>\n",
       "      <td>0.375</td>\n",
       "      <td>1</td>\n",
       "      <td>0</td>\n",
       "      <td>0.078125</td>\n",
       "      <td>0.093207</td>\n",
       "      <td>0</td>\n",
       "      <td>False</td>\n",
       "      <td>False</td>\n",
       "      <td>False</td>\n",
       "      <td>True</td>\n",
       "      <td>False</td>\n",
       "      <td>False</td>\n",
       "      <td>False</td>\n",
       "      <td>True</td>\n",
       "    </tr>\n",
       "  </tbody>\n",
       "</table>\n",
       "<p>10999 rows × 17 columns</p>\n",
       "</div>"
      ],
      "text/plain": [
       "       Customer_care_calls  Customer_rating  Cost_of_the_Product   \n",
       "ID                                                                 \n",
       "1                      0.4             0.25             0.378505  \\\n",
       "2                      0.4             1.00             0.560748   \n",
       "3                      0.0             0.25             0.406542   \n",
       "4                      0.2             0.50             0.373832   \n",
       "5                      0.0             0.25             0.411215   \n",
       "...                    ...              ...                  ...   \n",
       "10995                  0.4             0.00             0.728972   \n",
       "10996                  0.4             0.00             0.635514   \n",
       "10997                  0.6             0.75             0.682243   \n",
       "10998                  0.6             0.25             0.593458   \n",
       "10999                  0.0             1.00             0.275701   \n",
       "\n",
       "       Prior_purchases  Product_importance  Gender  Discount_offered   \n",
       "ID                                                                     \n",
       "1                0.125                   1       0          0.671875  \\\n",
       "2                0.000                   1       1          0.906250   \n",
       "3                0.250                   1       1          0.734375   \n",
       "4                0.250                   2       1          0.140625   \n",
       "5                0.125                   2       0          0.703125   \n",
       "...                ...                 ...     ...               ...   \n",
       "10995            0.375                   2       0          0.000000   \n",
       "10996            0.375                   2       0          0.078125   \n",
       "10997            0.375                   1       0          0.046875   \n",
       "10998            0.500                   2       1          0.015625   \n",
       "10999            0.375                   1       0          0.078125   \n",
       "\n",
       "       Weight_in_gms  Reached.on.Time_Y.N  Warehouse_block_A   \n",
       "ID                                                             \n",
       "1           0.033893                    1              False  \\\n",
       "2           0.304894                    1              False   \n",
       "3           0.346676                    1               True   \n",
       "4           0.025712                    1              False   \n",
       "5           0.216654                    1              False   \n",
       "...              ...                  ...                ...   \n",
       "10995       0.078451                    1               True   \n",
       "10996       0.035939                    0              False   \n",
       "10997       0.022498                    0              False   \n",
       "10998       0.030533                    0              False   \n",
       "10999       0.093207                    0              False   \n",
       "\n",
       "       Warehouse_block_B  Warehouse_block_C  Warehouse_block_D   \n",
       "ID                                                               \n",
       "1                  False              False               True  \\\n",
       "2                  False              False              False   \n",
       "3                  False              False              False   \n",
       "4                   True              False              False   \n",
       "5                  False               True              False   \n",
       "...                  ...                ...                ...   \n",
       "10995              False              False              False   \n",
       "10996               True              False              False   \n",
       "10997              False               True              False   \n",
       "10998              False              False              False   \n",
       "10999              False              False               True   \n",
       "\n",
       "       Warehouse_block_F  Mode_of_Shipment_Flight  Mode_of_Shipment_Road   \n",
       "ID                                                                         \n",
       "1                  False                     True                  False  \\\n",
       "2                   True                     True                  False   \n",
       "3                  False                     True                  False   \n",
       "4                  False                     True                  False   \n",
       "5                  False                     True                  False   \n",
       "...                  ...                      ...                    ...   \n",
       "10995              False                    False                  False   \n",
       "10996              False                    False                  False   \n",
       "10997              False                    False                  False   \n",
       "10998               True                    False                  False   \n",
       "10999              False                    False                  False   \n",
       "\n",
       "       Mode_of_Shipment_Ship  \n",
       "ID                            \n",
       "1                      False  \n",
       "2                      False  \n",
       "3                      False  \n",
       "4                      False  \n",
       "5                      False  \n",
       "...                      ...  \n",
       "10995                   True  \n",
       "10996                   True  \n",
       "10997                   True  \n",
       "10998                   True  \n",
       "10999                   True  \n",
       "\n",
       "[10999 rows x 17 columns]"
      ]
     },
     "execution_count": 77,
     "metadata": {},
     "output_type": "execute_result"
    }
   ],
   "source": [
    "#min max scaling für alle restlichen attribute\n",
    "\n",
    "columns = ['Customer_care_calls', 'Customer_rating', 'Cost_of_the_Product',\n",
    "       'Prior_purchases', 'Discount_offered', 'Weight_in_gms']\n",
    "\n",
    "df_reachont[columns] = (df_reachont[columns] - df_reachont[columns].min()) / (df_reachont[columns].max() - df_reachont[columns].min()) \n",
    "\n",
    "df_reachont"
   ]
  },
  {
   "cell_type": "code",
   "execution_count": 78,
   "metadata": {},
   "outputs": [
    {
     "data": {
      "text/plain": [
       "Discount_offered_split\n",
       "10    10175\n",
       "65        0\n",
       "Name: count, dtype: int64"
      ]
     },
     "execution_count": 78,
     "metadata": {},
     "output_type": "execute_result"
    }
   ],
   "source": [
    "#discount und weight correliert kann aber auch gut in classen eingeteilt werden für bessere analyse\n",
    "\n",
    "cut_bins_discount = [0 , 10 , 65]\n",
    "discount_labels = ['10', '65']\n",
    "df_reachont['Discount_offered_split'] = pd.cut(df_reachont['Discount_offered'], bins=cut_bins_discount, labels=discount_labels)\n",
    "df_reachont['Discount_offered_split'].value_counts()\n"
   ]
  },
  {
   "cell_type": "code",
   "execution_count": 79,
   "metadata": {},
   "outputs": [
    {
     "data": {
      "text/plain": [
       "BinnedStatisticResult(statistic=array([0.1933315,       nan]), bin_edges=array([ 0., 10., 65.]), binnumber=array([1, 1, 1, ..., 1, 1, 1], dtype=int64))"
      ]
     },
     "execution_count": 79,
     "metadata": {},
     "output_type": "execute_result"
    }
   ],
   "source": [
    "from scipy.stats import binned_statistic\n",
    "\n",
    "mean_stat_discount = binned_statistic(df_reachont['Discount_offered'],df_reachont['Discount_offered'], bins = cut_bins_discount, \n",
    "                             statistic='mean')\n",
    "mean_stat_discount\n",
    "\n",
    "#4.99159103, 31.27887083 mean"
   ]
  },
  {
   "cell_type": "code",
   "execution_count": 80,
   "metadata": {},
   "outputs": [],
   "source": [
    "values_discount = {4.99, 31.28}\n",
    "\n",
    "df_reachont.replace(to_replace=discount_labels, value=values_discount, inplace=True)"
   ]
  },
  {
   "cell_type": "code",
   "execution_count": 81,
   "metadata": {},
   "outputs": [
    {
     "data": {
      "text/plain": [
       "Weight_in_gms_split\n",
       "1500    10996\n",
       "3000        0\n",
       "5000        0\n",
       "7000        0\n",
       "Name: count, dtype: int64"
      ]
     },
     "execution_count": 81,
     "metadata": {},
     "output_type": "execute_result"
    }
   ],
   "source": [
    "cut_bins_weight = [0 , 2000 , 4000, 6000, 8000]\n",
    "weight_labels = ['1500','3000', '5000', '7000']\n",
    "df_reachont['Weight_in_gms_split'] = pd.cut(df_reachont['Weight_in_gms'], bins=cut_bins_weight, labels=weight_labels)\n",
    "df_reachont['Weight_in_gms_split'].value_counts()"
   ]
  },
  {
   "cell_type": "code",
   "execution_count": 82,
   "metadata": {},
   "outputs": [
    {
     "data": {
      "text/plain": [
       "BinnedStatisticResult(statistic=array([0.38466278,        nan,        nan,        nan]), bin_edges=array([   0., 2000., 4000., 6000., 8000.]), binnumber=array([1, 1, 1, ..., 1, 1, 1], dtype=int64))"
      ]
     },
     "execution_count": 82,
     "metadata": {},
     "output_type": "execute_result"
    }
   ],
   "source": [
    "from scipy.stats import binned_statistic\n",
    "\n",
    "mean_stat_weight = binned_statistic(df_reachont['Weight_in_gms'],df_reachont['Weight_in_gms'], bins = cut_bins_weight, \n",
    "                             statistic='mean')\n",
    "mean_stat_weight\n",
    "\n",
    "#1493.44585005, 2998.23575419, 4983.80241732, 6812.63636364 mean"
   ]
  },
  {
   "cell_type": "code",
   "execution_count": 83,
   "metadata": {},
   "outputs": [
    {
     "data": {
      "text/html": [
       "<div>\n",
       "<style scoped>\n",
       "    .dataframe tbody tr th:only-of-type {\n",
       "        vertical-align: middle;\n",
       "    }\n",
       "\n",
       "    .dataframe tbody tr th {\n",
       "        vertical-align: top;\n",
       "    }\n",
       "\n",
       "    .dataframe thead th {\n",
       "        text-align: right;\n",
       "    }\n",
       "</style>\n",
       "<table border=\"1\" class=\"dataframe\">\n",
       "  <thead>\n",
       "    <tr style=\"text-align: right;\">\n",
       "      <th></th>\n",
       "      <th>Customer_care_calls</th>\n",
       "      <th>Customer_rating</th>\n",
       "      <th>Cost_of_the_Product</th>\n",
       "      <th>Prior_purchases</th>\n",
       "      <th>Product_importance</th>\n",
       "      <th>Gender</th>\n",
       "      <th>Discount_offered</th>\n",
       "      <th>Weight_in_gms</th>\n",
       "      <th>Reached.on.Time_Y.N</th>\n",
       "      <th>Warehouse_block_A</th>\n",
       "      <th>Warehouse_block_B</th>\n",
       "      <th>Warehouse_block_C</th>\n",
       "      <th>Warehouse_block_D</th>\n",
       "      <th>Warehouse_block_F</th>\n",
       "      <th>Mode_of_Shipment_Flight</th>\n",
       "      <th>Mode_of_Shipment_Road</th>\n",
       "      <th>Mode_of_Shipment_Ship</th>\n",
       "      <th>Discount_offered_split</th>\n",
       "      <th>Weight_in_gms_split</th>\n",
       "    </tr>\n",
       "    <tr>\n",
       "      <th>ID</th>\n",
       "      <th></th>\n",
       "      <th></th>\n",
       "      <th></th>\n",
       "      <th></th>\n",
       "      <th></th>\n",
       "      <th></th>\n",
       "      <th></th>\n",
       "      <th></th>\n",
       "      <th></th>\n",
       "      <th></th>\n",
       "      <th></th>\n",
       "      <th></th>\n",
       "      <th></th>\n",
       "      <th></th>\n",
       "      <th></th>\n",
       "      <th></th>\n",
       "      <th></th>\n",
       "      <th></th>\n",
       "      <th></th>\n",
       "    </tr>\n",
       "  </thead>\n",
       "  <tbody>\n",
       "    <tr>\n",
       "      <th>1</th>\n",
       "      <td>0.4</td>\n",
       "      <td>0.25</td>\n",
       "      <td>0.378505</td>\n",
       "      <td>0.125</td>\n",
       "      <td>1</td>\n",
       "      <td>0</td>\n",
       "      <td>0.671875</td>\n",
       "      <td>0.033893</td>\n",
       "      <td>1</td>\n",
       "      <td>False</td>\n",
       "      <td>False</td>\n",
       "      <td>False</td>\n",
       "      <td>True</td>\n",
       "      <td>False</td>\n",
       "      <td>True</td>\n",
       "      <td>False</td>\n",
       "      <td>False</td>\n",
       "      <td>4.99</td>\n",
       "      <td>6812</td>\n",
       "    </tr>\n",
       "    <tr>\n",
       "      <th>2</th>\n",
       "      <td>0.4</td>\n",
       "      <td>1.00</td>\n",
       "      <td>0.560748</td>\n",
       "      <td>0.000</td>\n",
       "      <td>1</td>\n",
       "      <td>1</td>\n",
       "      <td>0.906250</td>\n",
       "      <td>0.304894</td>\n",
       "      <td>1</td>\n",
       "      <td>False</td>\n",
       "      <td>False</td>\n",
       "      <td>False</td>\n",
       "      <td>False</td>\n",
       "      <td>True</td>\n",
       "      <td>True</td>\n",
       "      <td>False</td>\n",
       "      <td>False</td>\n",
       "      <td>4.99</td>\n",
       "      <td>6812</td>\n",
       "    </tr>\n",
       "    <tr>\n",
       "      <th>3</th>\n",
       "      <td>0.0</td>\n",
       "      <td>0.25</td>\n",
       "      <td>0.406542</td>\n",
       "      <td>0.250</td>\n",
       "      <td>1</td>\n",
       "      <td>1</td>\n",
       "      <td>0.734375</td>\n",
       "      <td>0.346676</td>\n",
       "      <td>1</td>\n",
       "      <td>True</td>\n",
       "      <td>False</td>\n",
       "      <td>False</td>\n",
       "      <td>False</td>\n",
       "      <td>False</td>\n",
       "      <td>True</td>\n",
       "      <td>False</td>\n",
       "      <td>False</td>\n",
       "      <td>4.99</td>\n",
       "      <td>6812</td>\n",
       "    </tr>\n",
       "    <tr>\n",
       "      <th>4</th>\n",
       "      <td>0.2</td>\n",
       "      <td>0.50</td>\n",
       "      <td>0.373832</td>\n",
       "      <td>0.250</td>\n",
       "      <td>2</td>\n",
       "      <td>1</td>\n",
       "      <td>0.140625</td>\n",
       "      <td>0.025712</td>\n",
       "      <td>1</td>\n",
       "      <td>False</td>\n",
       "      <td>True</td>\n",
       "      <td>False</td>\n",
       "      <td>False</td>\n",
       "      <td>False</td>\n",
       "      <td>True</td>\n",
       "      <td>False</td>\n",
       "      <td>False</td>\n",
       "      <td>4.99</td>\n",
       "      <td>6812</td>\n",
       "    </tr>\n",
       "    <tr>\n",
       "      <th>5</th>\n",
       "      <td>0.0</td>\n",
       "      <td>0.25</td>\n",
       "      <td>0.411215</td>\n",
       "      <td>0.125</td>\n",
       "      <td>2</td>\n",
       "      <td>0</td>\n",
       "      <td>0.703125</td>\n",
       "      <td>0.216654</td>\n",
       "      <td>1</td>\n",
       "      <td>False</td>\n",
       "      <td>False</td>\n",
       "      <td>True</td>\n",
       "      <td>False</td>\n",
       "      <td>False</td>\n",
       "      <td>True</td>\n",
       "      <td>False</td>\n",
       "      <td>False</td>\n",
       "      <td>4.99</td>\n",
       "      <td>6812</td>\n",
       "    </tr>\n",
       "    <tr>\n",
       "      <th>...</th>\n",
       "      <td>...</td>\n",
       "      <td>...</td>\n",
       "      <td>...</td>\n",
       "      <td>...</td>\n",
       "      <td>...</td>\n",
       "      <td>...</td>\n",
       "      <td>...</td>\n",
       "      <td>...</td>\n",
       "      <td>...</td>\n",
       "      <td>...</td>\n",
       "      <td>...</td>\n",
       "      <td>...</td>\n",
       "      <td>...</td>\n",
       "      <td>...</td>\n",
       "      <td>...</td>\n",
       "      <td>...</td>\n",
       "      <td>...</td>\n",
       "      <td>...</td>\n",
       "      <td>...</td>\n",
       "    </tr>\n",
       "    <tr>\n",
       "      <th>10995</th>\n",
       "      <td>0.4</td>\n",
       "      <td>0.00</td>\n",
       "      <td>0.728972</td>\n",
       "      <td>0.375</td>\n",
       "      <td>2</td>\n",
       "      <td>0</td>\n",
       "      <td>0.000000</td>\n",
       "      <td>0.078451</td>\n",
       "      <td>1</td>\n",
       "      <td>True</td>\n",
       "      <td>False</td>\n",
       "      <td>False</td>\n",
       "      <td>False</td>\n",
       "      <td>False</td>\n",
       "      <td>False</td>\n",
       "      <td>False</td>\n",
       "      <td>True</td>\n",
       "      <td>NaN</td>\n",
       "      <td>6812</td>\n",
       "    </tr>\n",
       "    <tr>\n",
       "      <th>10996</th>\n",
       "      <td>0.4</td>\n",
       "      <td>0.00</td>\n",
       "      <td>0.635514</td>\n",
       "      <td>0.375</td>\n",
       "      <td>2</td>\n",
       "      <td>0</td>\n",
       "      <td>0.078125</td>\n",
       "      <td>0.035939</td>\n",
       "      <td>0</td>\n",
       "      <td>False</td>\n",
       "      <td>True</td>\n",
       "      <td>False</td>\n",
       "      <td>False</td>\n",
       "      <td>False</td>\n",
       "      <td>False</td>\n",
       "      <td>False</td>\n",
       "      <td>True</td>\n",
       "      <td>4.99</td>\n",
       "      <td>6812</td>\n",
       "    </tr>\n",
       "    <tr>\n",
       "      <th>10997</th>\n",
       "      <td>0.6</td>\n",
       "      <td>0.75</td>\n",
       "      <td>0.682243</td>\n",
       "      <td>0.375</td>\n",
       "      <td>1</td>\n",
       "      <td>0</td>\n",
       "      <td>0.046875</td>\n",
       "      <td>0.022498</td>\n",
       "      <td>0</td>\n",
       "      <td>False</td>\n",
       "      <td>False</td>\n",
       "      <td>True</td>\n",
       "      <td>False</td>\n",
       "      <td>False</td>\n",
       "      <td>False</td>\n",
       "      <td>False</td>\n",
       "      <td>True</td>\n",
       "      <td>4.99</td>\n",
       "      <td>6812</td>\n",
       "    </tr>\n",
       "    <tr>\n",
       "      <th>10998</th>\n",
       "      <td>0.6</td>\n",
       "      <td>0.25</td>\n",
       "      <td>0.593458</td>\n",
       "      <td>0.500</td>\n",
       "      <td>2</td>\n",
       "      <td>1</td>\n",
       "      <td>0.015625</td>\n",
       "      <td>0.030533</td>\n",
       "      <td>0</td>\n",
       "      <td>False</td>\n",
       "      <td>False</td>\n",
       "      <td>False</td>\n",
       "      <td>False</td>\n",
       "      <td>True</td>\n",
       "      <td>False</td>\n",
       "      <td>False</td>\n",
       "      <td>True</td>\n",
       "      <td>4.99</td>\n",
       "      <td>6812</td>\n",
       "    </tr>\n",
       "    <tr>\n",
       "      <th>10999</th>\n",
       "      <td>0.0</td>\n",
       "      <td>1.00</td>\n",
       "      <td>0.275701</td>\n",
       "      <td>0.375</td>\n",
       "      <td>1</td>\n",
       "      <td>0</td>\n",
       "      <td>0.078125</td>\n",
       "      <td>0.093207</td>\n",
       "      <td>0</td>\n",
       "      <td>False</td>\n",
       "      <td>False</td>\n",
       "      <td>False</td>\n",
       "      <td>True</td>\n",
       "      <td>False</td>\n",
       "      <td>False</td>\n",
       "      <td>False</td>\n",
       "      <td>True</td>\n",
       "      <td>4.99</td>\n",
       "      <td>6812</td>\n",
       "    </tr>\n",
       "  </tbody>\n",
       "</table>\n",
       "<p>10999 rows × 19 columns</p>\n",
       "</div>"
      ],
      "text/plain": [
       "       Customer_care_calls  Customer_rating  Cost_of_the_Product   \n",
       "ID                                                                 \n",
       "1                      0.4             0.25             0.378505  \\\n",
       "2                      0.4             1.00             0.560748   \n",
       "3                      0.0             0.25             0.406542   \n",
       "4                      0.2             0.50             0.373832   \n",
       "5                      0.0             0.25             0.411215   \n",
       "...                    ...              ...                  ...   \n",
       "10995                  0.4             0.00             0.728972   \n",
       "10996                  0.4             0.00             0.635514   \n",
       "10997                  0.6             0.75             0.682243   \n",
       "10998                  0.6             0.25             0.593458   \n",
       "10999                  0.0             1.00             0.275701   \n",
       "\n",
       "       Prior_purchases  Product_importance  Gender  Discount_offered   \n",
       "ID                                                                     \n",
       "1                0.125                   1       0          0.671875  \\\n",
       "2                0.000                   1       1          0.906250   \n",
       "3                0.250                   1       1          0.734375   \n",
       "4                0.250                   2       1          0.140625   \n",
       "5                0.125                   2       0          0.703125   \n",
       "...                ...                 ...     ...               ...   \n",
       "10995            0.375                   2       0          0.000000   \n",
       "10996            0.375                   2       0          0.078125   \n",
       "10997            0.375                   1       0          0.046875   \n",
       "10998            0.500                   2       1          0.015625   \n",
       "10999            0.375                   1       0          0.078125   \n",
       "\n",
       "       Weight_in_gms  Reached.on.Time_Y.N  Warehouse_block_A   \n",
       "ID                                                             \n",
       "1           0.033893                    1              False  \\\n",
       "2           0.304894                    1              False   \n",
       "3           0.346676                    1               True   \n",
       "4           0.025712                    1              False   \n",
       "5           0.216654                    1              False   \n",
       "...              ...                  ...                ...   \n",
       "10995       0.078451                    1               True   \n",
       "10996       0.035939                    0              False   \n",
       "10997       0.022498                    0              False   \n",
       "10998       0.030533                    0              False   \n",
       "10999       0.093207                    0              False   \n",
       "\n",
       "       Warehouse_block_B  Warehouse_block_C  Warehouse_block_D   \n",
       "ID                                                               \n",
       "1                  False              False               True  \\\n",
       "2                  False              False              False   \n",
       "3                  False              False              False   \n",
       "4                   True              False              False   \n",
       "5                  False               True              False   \n",
       "...                  ...                ...                ...   \n",
       "10995              False              False              False   \n",
       "10996               True              False              False   \n",
       "10997              False               True              False   \n",
       "10998              False              False              False   \n",
       "10999              False              False               True   \n",
       "\n",
       "       Warehouse_block_F  Mode_of_Shipment_Flight  Mode_of_Shipment_Road   \n",
       "ID                                                                         \n",
       "1                  False                     True                  False  \\\n",
       "2                   True                     True                  False   \n",
       "3                  False                     True                  False   \n",
       "4                  False                     True                  False   \n",
       "5                  False                     True                  False   \n",
       "...                  ...                      ...                    ...   \n",
       "10995              False                    False                  False   \n",
       "10996              False                    False                  False   \n",
       "10997              False                    False                  False   \n",
       "10998               True                    False                  False   \n",
       "10999              False                    False                  False   \n",
       "\n",
       "       Mode_of_Shipment_Ship Discount_offered_split Weight_in_gms_split  \n",
       "ID                                                                       \n",
       "1                      False                   4.99                6812  \n",
       "2                      False                   4.99                6812  \n",
       "3                      False                   4.99                6812  \n",
       "4                      False                   4.99                6812  \n",
       "5                      False                   4.99                6812  \n",
       "...                      ...                    ...                 ...  \n",
       "10995                   True                    NaN                6812  \n",
       "10996                   True                   4.99                6812  \n",
       "10997                   True                   4.99                6812  \n",
       "10998                   True                   4.99                6812  \n",
       "10999                   True                   4.99                6812  \n",
       "\n",
       "[10999 rows x 19 columns]"
      ]
     },
     "execution_count": 83,
     "metadata": {},
     "output_type": "execute_result"
    }
   ],
   "source": [
    "values_weight = {1493, 2998, 4983, 6812}\n",
    "\n",
    "df_reachont.replace(to_replace=weight_labels, value=values_weight, inplace=True)\n",
    "df_reachont"
   ]
  },
  {
   "cell_type": "code",
   "execution_count": 84,
   "metadata": {},
   "outputs": [],
   "source": [
    "df_reachont.to_csv('df_cleaned')"
   ]
  },
  {
   "cell_type": "code",
   "execution_count": 85,
   "metadata": {},
   "outputs": [
    {
     "data": {
      "text/plain": [
       "Index(['Customer_care_calls', 'Customer_rating', 'Cost_of_the_Product',\n",
       "       'Prior_purchases', 'Product_importance', 'Gender', 'Discount_offered',\n",
       "       'Weight_in_gms', 'Reached.on.Time_Y.N', 'Warehouse_block_A',\n",
       "       'Warehouse_block_B', 'Warehouse_block_C', 'Warehouse_block_D',\n",
       "       'Warehouse_block_F', 'Mode_of_Shipment_Flight', 'Mode_of_Shipment_Road',\n",
       "       'Mode_of_Shipment_Ship', 'Discount_offered_split',\n",
       "       'Weight_in_gms_split'],\n",
       "      dtype='object')"
      ]
     },
     "execution_count": 85,
     "metadata": {},
     "output_type": "execute_result"
    }
   ],
   "source": [
    "df_reachont.columns"
   ]
  },
  {
   "cell_type": "code",
   "execution_count": 162,
   "metadata": {},
   "outputs": [
    {
     "data": {
      "text/html": [
       "<div>\n",
       "<style scoped>\n",
       "    .dataframe tbody tr th:only-of-type {\n",
       "        vertical-align: middle;\n",
       "    }\n",
       "\n",
       "    .dataframe tbody tr th {\n",
       "        vertical-align: top;\n",
       "    }\n",
       "\n",
       "    .dataframe thead th {\n",
       "        text-align: right;\n",
       "    }\n",
       "</style>\n",
       "<table border=\"1\" class=\"dataframe\">\n",
       "  <thead>\n",
       "    <tr style=\"text-align: right;\">\n",
       "      <th></th>\n",
       "      <th>Customer_care_calls</th>\n",
       "      <th>Customer_rating</th>\n",
       "      <th>Cost_of_the_Product</th>\n",
       "      <th>Prior_purchases</th>\n",
       "      <th>Product_importance</th>\n",
       "      <th>Gender</th>\n",
       "      <th>Discount_offered</th>\n",
       "      <th>Weight_in_gms</th>\n",
       "      <th>Reached.on.Time_Y.N</th>\n",
       "      <th>Warehouse_block_A</th>\n",
       "      <th>Warehouse_block_B</th>\n",
       "      <th>Warehouse_block_C</th>\n",
       "      <th>Warehouse_block_D</th>\n",
       "      <th>Warehouse_block_F</th>\n",
       "      <th>Mode_of_Shipment_Flight</th>\n",
       "      <th>Mode_of_Shipment_Road</th>\n",
       "      <th>Mode_of_Shipment_Ship</th>\n",
       "    </tr>\n",
       "    <tr>\n",
       "      <th>ID</th>\n",
       "      <th></th>\n",
       "      <th></th>\n",
       "      <th></th>\n",
       "      <th></th>\n",
       "      <th></th>\n",
       "      <th></th>\n",
       "      <th></th>\n",
       "      <th></th>\n",
       "      <th></th>\n",
       "      <th></th>\n",
       "      <th></th>\n",
       "      <th></th>\n",
       "      <th></th>\n",
       "      <th></th>\n",
       "      <th></th>\n",
       "      <th></th>\n",
       "      <th></th>\n",
       "    </tr>\n",
       "  </thead>\n",
       "  <tbody>\n",
       "    <tr>\n",
       "      <th>1</th>\n",
       "      <td>0.4</td>\n",
       "      <td>0.25</td>\n",
       "      <td>0.378505</td>\n",
       "      <td>0.125</td>\n",
       "      <td>1</td>\n",
       "      <td>0</td>\n",
       "      <td>0.671875</td>\n",
       "      <td>0.033893</td>\n",
       "      <td>1</td>\n",
       "      <td>False</td>\n",
       "      <td>False</td>\n",
       "      <td>False</td>\n",
       "      <td>True</td>\n",
       "      <td>False</td>\n",
       "      <td>True</td>\n",
       "      <td>False</td>\n",
       "      <td>False</td>\n",
       "    </tr>\n",
       "    <tr>\n",
       "      <th>2</th>\n",
       "      <td>0.4</td>\n",
       "      <td>1.00</td>\n",
       "      <td>0.560748</td>\n",
       "      <td>0.000</td>\n",
       "      <td>1</td>\n",
       "      <td>1</td>\n",
       "      <td>0.906250</td>\n",
       "      <td>0.304894</td>\n",
       "      <td>1</td>\n",
       "      <td>False</td>\n",
       "      <td>False</td>\n",
       "      <td>False</td>\n",
       "      <td>False</td>\n",
       "      <td>True</td>\n",
       "      <td>True</td>\n",
       "      <td>False</td>\n",
       "      <td>False</td>\n",
       "    </tr>\n",
       "    <tr>\n",
       "      <th>3</th>\n",
       "      <td>0.0</td>\n",
       "      <td>0.25</td>\n",
       "      <td>0.406542</td>\n",
       "      <td>0.250</td>\n",
       "      <td>1</td>\n",
       "      <td>1</td>\n",
       "      <td>0.734375</td>\n",
       "      <td>0.346676</td>\n",
       "      <td>1</td>\n",
       "      <td>True</td>\n",
       "      <td>False</td>\n",
       "      <td>False</td>\n",
       "      <td>False</td>\n",
       "      <td>False</td>\n",
       "      <td>True</td>\n",
       "      <td>False</td>\n",
       "      <td>False</td>\n",
       "    </tr>\n",
       "    <tr>\n",
       "      <th>4</th>\n",
       "      <td>0.2</td>\n",
       "      <td>0.50</td>\n",
       "      <td>0.373832</td>\n",
       "      <td>0.250</td>\n",
       "      <td>2</td>\n",
       "      <td>1</td>\n",
       "      <td>0.140625</td>\n",
       "      <td>0.025712</td>\n",
       "      <td>1</td>\n",
       "      <td>False</td>\n",
       "      <td>True</td>\n",
       "      <td>False</td>\n",
       "      <td>False</td>\n",
       "      <td>False</td>\n",
       "      <td>True</td>\n",
       "      <td>False</td>\n",
       "      <td>False</td>\n",
       "    </tr>\n",
       "    <tr>\n",
       "      <th>5</th>\n",
       "      <td>0.0</td>\n",
       "      <td>0.25</td>\n",
       "      <td>0.411215</td>\n",
       "      <td>0.125</td>\n",
       "      <td>2</td>\n",
       "      <td>0</td>\n",
       "      <td>0.703125</td>\n",
       "      <td>0.216654</td>\n",
       "      <td>1</td>\n",
       "      <td>False</td>\n",
       "      <td>False</td>\n",
       "      <td>True</td>\n",
       "      <td>False</td>\n",
       "      <td>False</td>\n",
       "      <td>True</td>\n",
       "      <td>False</td>\n",
       "      <td>False</td>\n",
       "    </tr>\n",
       "    <tr>\n",
       "      <th>...</th>\n",
       "      <td>...</td>\n",
       "      <td>...</td>\n",
       "      <td>...</td>\n",
       "      <td>...</td>\n",
       "      <td>...</td>\n",
       "      <td>...</td>\n",
       "      <td>...</td>\n",
       "      <td>...</td>\n",
       "      <td>...</td>\n",
       "      <td>...</td>\n",
       "      <td>...</td>\n",
       "      <td>...</td>\n",
       "      <td>...</td>\n",
       "      <td>...</td>\n",
       "      <td>...</td>\n",
       "      <td>...</td>\n",
       "      <td>...</td>\n",
       "    </tr>\n",
       "    <tr>\n",
       "      <th>10995</th>\n",
       "      <td>0.4</td>\n",
       "      <td>0.00</td>\n",
       "      <td>0.728972</td>\n",
       "      <td>0.375</td>\n",
       "      <td>2</td>\n",
       "      <td>0</td>\n",
       "      <td>0.000000</td>\n",
       "      <td>0.078451</td>\n",
       "      <td>1</td>\n",
       "      <td>True</td>\n",
       "      <td>False</td>\n",
       "      <td>False</td>\n",
       "      <td>False</td>\n",
       "      <td>False</td>\n",
       "      <td>False</td>\n",
       "      <td>False</td>\n",
       "      <td>True</td>\n",
       "    </tr>\n",
       "    <tr>\n",
       "      <th>10996</th>\n",
       "      <td>0.4</td>\n",
       "      <td>0.00</td>\n",
       "      <td>0.635514</td>\n",
       "      <td>0.375</td>\n",
       "      <td>2</td>\n",
       "      <td>0</td>\n",
       "      <td>0.078125</td>\n",
       "      <td>0.035939</td>\n",
       "      <td>0</td>\n",
       "      <td>False</td>\n",
       "      <td>True</td>\n",
       "      <td>False</td>\n",
       "      <td>False</td>\n",
       "      <td>False</td>\n",
       "      <td>False</td>\n",
       "      <td>False</td>\n",
       "      <td>True</td>\n",
       "    </tr>\n",
       "    <tr>\n",
       "      <th>10997</th>\n",
       "      <td>0.6</td>\n",
       "      <td>0.75</td>\n",
       "      <td>0.682243</td>\n",
       "      <td>0.375</td>\n",
       "      <td>1</td>\n",
       "      <td>0</td>\n",
       "      <td>0.046875</td>\n",
       "      <td>0.022498</td>\n",
       "      <td>0</td>\n",
       "      <td>False</td>\n",
       "      <td>False</td>\n",
       "      <td>True</td>\n",
       "      <td>False</td>\n",
       "      <td>False</td>\n",
       "      <td>False</td>\n",
       "      <td>False</td>\n",
       "      <td>True</td>\n",
       "    </tr>\n",
       "    <tr>\n",
       "      <th>10998</th>\n",
       "      <td>0.6</td>\n",
       "      <td>0.25</td>\n",
       "      <td>0.593458</td>\n",
       "      <td>0.500</td>\n",
       "      <td>2</td>\n",
       "      <td>1</td>\n",
       "      <td>0.015625</td>\n",
       "      <td>0.030533</td>\n",
       "      <td>0</td>\n",
       "      <td>False</td>\n",
       "      <td>False</td>\n",
       "      <td>False</td>\n",
       "      <td>False</td>\n",
       "      <td>True</td>\n",
       "      <td>False</td>\n",
       "      <td>False</td>\n",
       "      <td>True</td>\n",
       "    </tr>\n",
       "    <tr>\n",
       "      <th>10999</th>\n",
       "      <td>0.0</td>\n",
       "      <td>1.00</td>\n",
       "      <td>0.275701</td>\n",
       "      <td>0.375</td>\n",
       "      <td>1</td>\n",
       "      <td>0</td>\n",
       "      <td>0.078125</td>\n",
       "      <td>0.093207</td>\n",
       "      <td>0</td>\n",
       "      <td>False</td>\n",
       "      <td>False</td>\n",
       "      <td>False</td>\n",
       "      <td>True</td>\n",
       "      <td>False</td>\n",
       "      <td>False</td>\n",
       "      <td>False</td>\n",
       "      <td>True</td>\n",
       "    </tr>\n",
       "  </tbody>\n",
       "</table>\n",
       "<p>10999 rows × 17 columns</p>\n",
       "</div>"
      ],
      "text/plain": [
       "       Customer_care_calls  Customer_rating  Cost_of_the_Product   \n",
       "ID                                                                 \n",
       "1                      0.4             0.25             0.378505  \\\n",
       "2                      0.4             1.00             0.560748   \n",
       "3                      0.0             0.25             0.406542   \n",
       "4                      0.2             0.50             0.373832   \n",
       "5                      0.0             0.25             0.411215   \n",
       "...                    ...              ...                  ...   \n",
       "10995                  0.4             0.00             0.728972   \n",
       "10996                  0.4             0.00             0.635514   \n",
       "10997                  0.6             0.75             0.682243   \n",
       "10998                  0.6             0.25             0.593458   \n",
       "10999                  0.0             1.00             0.275701   \n",
       "\n",
       "       Prior_purchases  Product_importance  Gender  Discount_offered   \n",
       "ID                                                                     \n",
       "1                0.125                   1       0          0.671875  \\\n",
       "2                0.000                   1       1          0.906250   \n",
       "3                0.250                   1       1          0.734375   \n",
       "4                0.250                   2       1          0.140625   \n",
       "5                0.125                   2       0          0.703125   \n",
       "...                ...                 ...     ...               ...   \n",
       "10995            0.375                   2       0          0.000000   \n",
       "10996            0.375                   2       0          0.078125   \n",
       "10997            0.375                   1       0          0.046875   \n",
       "10998            0.500                   2       1          0.015625   \n",
       "10999            0.375                   1       0          0.078125   \n",
       "\n",
       "       Weight_in_gms  Reached.on.Time_Y.N  Warehouse_block_A   \n",
       "ID                                                             \n",
       "1           0.033893                    1              False  \\\n",
       "2           0.304894                    1              False   \n",
       "3           0.346676                    1               True   \n",
       "4           0.025712                    1              False   \n",
       "5           0.216654                    1              False   \n",
       "...              ...                  ...                ...   \n",
       "10995       0.078451                    1               True   \n",
       "10996       0.035939                    0              False   \n",
       "10997       0.022498                    0              False   \n",
       "10998       0.030533                    0              False   \n",
       "10999       0.093207                    0              False   \n",
       "\n",
       "       Warehouse_block_B  Warehouse_block_C  Warehouse_block_D   \n",
       "ID                                                               \n",
       "1                  False              False               True  \\\n",
       "2                  False              False              False   \n",
       "3                  False              False              False   \n",
       "4                   True              False              False   \n",
       "5                  False               True              False   \n",
       "...                  ...                ...                ...   \n",
       "10995              False              False              False   \n",
       "10996               True              False              False   \n",
       "10997              False               True              False   \n",
       "10998              False              False              False   \n",
       "10999              False              False               True   \n",
       "\n",
       "       Warehouse_block_F  Mode_of_Shipment_Flight  Mode_of_Shipment_Road   \n",
       "ID                                                                         \n",
       "1                  False                     True                  False  \\\n",
       "2                   True                     True                  False   \n",
       "3                  False                     True                  False   \n",
       "4                  False                     True                  False   \n",
       "5                  False                     True                  False   \n",
       "...                  ...                      ...                    ...   \n",
       "10995              False                    False                  False   \n",
       "10996              False                    False                  False   \n",
       "10997              False                    False                  False   \n",
       "10998               True                    False                  False   \n",
       "10999              False                    False                  False   \n",
       "\n",
       "       Mode_of_Shipment_Ship  \n",
       "ID                            \n",
       "1                      False  \n",
       "2                      False  \n",
       "3                      False  \n",
       "4                      False  \n",
       "5                      False  \n",
       "...                      ...  \n",
       "10995                   True  \n",
       "10996                   True  \n",
       "10997                   True  \n",
       "10998                   True  \n",
       "10999                   True  \n",
       "\n",
       "[10999 rows x 17 columns]"
      ]
     },
     "execution_count": 162,
     "metadata": {},
     "output_type": "execute_result"
    }
   ],
   "source": [
    "#drop alle attribute basierend auf heatmap werten:\n",
    "#'Customer_care_calls','Customer_rating', 'Cost_of_the_Product', 'Prior_purchases','Product_importance', 'Gender', 'Warehouse_block_A',\n",
    "#       'Warehouse_block_B', 'Warehouse_block_C', 'Warehouse_block_D',\n",
    " #      'Warehouse_block_F', 'Mode_of_Shipment_Flight', 'Mode_of_Shipment_Road',\n",
    "  #     'Mode_of_Shipment_Ship'\n",
    "\n",
    "df_test = df_reachont.drop(['Discount_offered_split','Weight_in_gms_split'], axis=1)\n",
    "\n",
    "df_test"
   ]
  },
  {
   "cell_type": "code",
   "execution_count": 167,
   "metadata": {},
   "outputs": [
    {
     "data": {
      "text/plain": [
       "<Axes: >"
      ]
     },
     "execution_count": 167,
     "metadata": {},
     "output_type": "execute_result"
    },
    {
     "data": {
      "image/png": "[encoded data removed]",
      "text/plain": [
       "<Figure size 640x480 with 2 Axes>"
      ]
     },
     "metadata": {},
     "output_type": "display_data"
    }
   ],
   "source": [
    "sns.heatmap(df_test.corr())"
   ]
  },
  {
   "cell_type": "code",
   "execution_count": 189,
   "metadata": {},
   "outputs": [
    {
     "data": {
      "text/plain": [
       "Index(['Customer_care_calls', 'Customer_rating', 'Cost_of_the_Product',\n",
       "       'Prior_purchases', 'Product_importance', 'Gender', 'Discount_offered',\n",
       "       'Weight_in_gms', 'Reached.on.Time_Y.N', 'Warehouse_block_A',\n",
       "       'Warehouse_block_B', 'Warehouse_block_C', 'Warehouse_block_D',\n",
       "       'Warehouse_block_F', 'Mode_of_Shipment_Flight', 'Mode_of_Shipment_Road',\n",
       "       'Mode_of_Shipment_Ship', 'Discount_offered_split',\n",
       "       'Weight_in_gms_split'],\n",
       "      dtype='object')"
      ]
     },
     "execution_count": 189,
     "metadata": {},
     "output_type": "execute_result"
    }
   ],
   "source": [
    "df_cost_in = pd.read_csv(\"df_cleaned.csv\", index_col=0)\n",
    "\n",
    "df_cost_in.columns\n"
   ]
  },
  {
   "cell_type": "code",
   "execution_count": 225,
   "metadata": {},
   "outputs": [
    {
     "data": {
      "text/html": [
       "<div>\n",
       "<style scoped>\n",
       "    .dataframe tbody tr th:only-of-type {\n",
       "        vertical-align: middle;\n",
       "    }\n",
       "\n",
       "    .dataframe tbody tr th {\n",
       "        vertical-align: top;\n",
       "    }\n",
       "\n",
       "    .dataframe thead th {\n",
       "        text-align: right;\n",
       "    }\n",
       "</style>\n",
       "<table border=\"1\" class=\"dataframe\">\n",
       "  <thead>\n",
       "    <tr style=\"text-align: right;\">\n",
       "      <th></th>\n",
       "      <th>Customer_care_calls</th>\n",
       "      <th>Cost_of_the_Product</th>\n",
       "      <th>Prior_purchases</th>\n",
       "      <th>Discount_offered</th>\n",
       "      <th>Weight_in_gms</th>\n",
       "      <th>Reached.on.Time_Y.N</th>\n",
       "    </tr>\n",
       "    <tr>\n",
       "      <th>ID</th>\n",
       "      <th></th>\n",
       "      <th></th>\n",
       "      <th></th>\n",
       "      <th></th>\n",
       "      <th></th>\n",
       "      <th></th>\n",
       "    </tr>\n",
       "  </thead>\n",
       "  <tbody>\n",
       "    <tr>\n",
       "      <th>1</th>\n",
       "      <td>0.4</td>\n",
       "      <td>0.378505</td>\n",
       "      <td>0.125</td>\n",
       "      <td>0.671875</td>\n",
       "      <td>0.033893</td>\n",
       "      <td>1</td>\n",
       "    </tr>\n",
       "    <tr>\n",
       "      <th>2</th>\n",
       "      <td>0.4</td>\n",
       "      <td>0.560748</td>\n",
       "      <td>0.000</td>\n",
       "      <td>0.906250</td>\n",
       "      <td>0.304894</td>\n",
       "      <td>1</td>\n",
       "    </tr>\n",
       "    <tr>\n",
       "      <th>3</th>\n",
       "      <td>0.0</td>\n",
       "      <td>0.406542</td>\n",
       "      <td>0.250</td>\n",
       "      <td>0.734375</td>\n",
       "      <td>0.346676</td>\n",
       "      <td>1</td>\n",
       "    </tr>\n",
       "    <tr>\n",
       "      <th>4</th>\n",
       "      <td>0.2</td>\n",
       "      <td>0.373832</td>\n",
       "      <td>0.250</td>\n",
       "      <td>0.140625</td>\n",
       "      <td>0.025712</td>\n",
       "      <td>1</td>\n",
       "    </tr>\n",
       "    <tr>\n",
       "      <th>5</th>\n",
       "      <td>0.0</td>\n",
       "      <td>0.411215</td>\n",
       "      <td>0.125</td>\n",
       "      <td>0.703125</td>\n",
       "      <td>0.216654</td>\n",
       "      <td>1</td>\n",
       "    </tr>\n",
       "    <tr>\n",
       "      <th>...</th>\n",
       "      <td>...</td>\n",
       "      <td>...</td>\n",
       "      <td>...</td>\n",
       "      <td>...</td>\n",
       "      <td>...</td>\n",
       "      <td>...</td>\n",
       "    </tr>\n",
       "    <tr>\n",
       "      <th>10995</th>\n",
       "      <td>0.4</td>\n",
       "      <td>0.728972</td>\n",
       "      <td>0.375</td>\n",
       "      <td>0.000000</td>\n",
       "      <td>0.078451</td>\n",
       "      <td>1</td>\n",
       "    </tr>\n",
       "    <tr>\n",
       "      <th>10996</th>\n",
       "      <td>0.4</td>\n",
       "      <td>0.635514</td>\n",
       "      <td>0.375</td>\n",
       "      <td>0.078125</td>\n",
       "      <td>0.035939</td>\n",
       "      <td>0</td>\n",
       "    </tr>\n",
       "    <tr>\n",
       "      <th>10997</th>\n",
       "      <td>0.6</td>\n",
       "      <td>0.682243</td>\n",
       "      <td>0.375</td>\n",
       "      <td>0.046875</td>\n",
       "      <td>0.022498</td>\n",
       "      <td>0</td>\n",
       "    </tr>\n",
       "    <tr>\n",
       "      <th>10998</th>\n",
       "      <td>0.6</td>\n",
       "      <td>0.593458</td>\n",
       "      <td>0.500</td>\n",
       "      <td>0.015625</td>\n",
       "      <td>0.030533</td>\n",
       "      <td>0</td>\n",
       "    </tr>\n",
       "    <tr>\n",
       "      <th>10999</th>\n",
       "      <td>0.0</td>\n",
       "      <td>0.275701</td>\n",
       "      <td>0.375</td>\n",
       "      <td>0.078125</td>\n",
       "      <td>0.093207</td>\n",
       "      <td>0</td>\n",
       "    </tr>\n",
       "  </tbody>\n",
       "</table>\n",
       "<p>10999 rows × 6 columns</p>\n",
       "</div>"
      ],
      "text/plain": [
       "       Customer_care_calls  Cost_of_the_Product  Prior_purchases   \n",
       "ID                                                                 \n",
       "1                      0.4             0.378505            0.125  \\\n",
       "2                      0.4             0.560748            0.000   \n",
       "3                      0.0             0.406542            0.250   \n",
       "4                      0.2             0.373832            0.250   \n",
       "5                      0.0             0.411215            0.125   \n",
       "...                    ...                  ...              ...   \n",
       "10995                  0.4             0.728972            0.375   \n",
       "10996                  0.4             0.635514            0.375   \n",
       "10997                  0.6             0.682243            0.375   \n",
       "10998                  0.6             0.593458            0.500   \n",
       "10999                  0.0             0.275701            0.375   \n",
       "\n",
       "       Discount_offered  Weight_in_gms  Reached.on.Time_Y.N  \n",
       "ID                                                           \n",
       "1              0.671875       0.033893                    1  \n",
       "2              0.906250       0.304894                    1  \n",
       "3              0.734375       0.346676                    1  \n",
       "4              0.140625       0.025712                    1  \n",
       "5              0.703125       0.216654                    1  \n",
       "...                 ...            ...                  ...  \n",
       "10995          0.000000       0.078451                    1  \n",
       "10996          0.078125       0.035939                    0  \n",
       "10997          0.046875       0.022498                    0  \n",
       "10998          0.015625       0.030533                    0  \n",
       "10999          0.078125       0.093207                    0  \n",
       "\n",
       "[10999 rows x 6 columns]"
      ]
     },
     "execution_count": 225,
     "metadata": {},
     "output_type": "execute_result"
    }
   ],
   "source": [
    "df_cost = df_cost_in.drop(['Customer_rating',\n",
    "       'Product_importance', 'Gender',\n",
    "       'Warehouse_block_A',\n",
    "       'Warehouse_block_B', 'Warehouse_block_C', 'Warehouse_block_D',\n",
    "       'Warehouse_block_F', 'Mode_of_Shipment_Flight', 'Mode_of_Shipment_Road',\n",
    "       'Mode_of_Shipment_Ship', 'Discount_offered_split',\n",
    "       'Weight_in_gms_split'], axis=1)\n",
    "\n",
    "df_cost"
   ]
  },
  {
   "attachments": {},
   "cell_type": "markdown",
   "metadata": {},
   "source": [
    "Machine Learning:"
   ]
  },
  {
   "cell_type": "code",
   "execution_count": 89,
   "metadata": {},
   "outputs": [],
   "source": [
    "from sklearn.model_selection import train_test_split, GridSearchCV\n",
    "from sklearn.linear_model import LogisticRegression\n",
    "from sklearn.metrics import accuracy_score, classification_report\n",
    "from sklearn.neighbors import KNeighborsClassifier\n",
    "from sklearn.model_selection import KFold, StratifiedKFold, cross_val_score\n",
    "from sklearn.tree import DecisionTreeClassifier\n",
    "from sklearn import tree \n",
    "from sklearn import metrics\n",
    "from sklearn.preprocessing import PolynomialFeatures\n",
    "from sklearn.linear_model import LinearRegression\n",
    "\n"
   ]
  },
  {
   "cell_type": "code",
   "execution_count": 90,
   "metadata": {},
   "outputs": [],
   "source": [
    "def model_evaluation(model, X_test, y_test, model_name):\n",
    "    y_pred = model.predict(X_test)\n",
    "    \n",
    "    MAE = metrics.mean_absolute_error(y_test, y_pred)\n",
    "    MSE = metrics.mean_squared_error(y_test, y_pred)\n",
    "    RMSE = np.sqrt(MSE)\n",
    "    R2_Score = metrics.r2_score(y_test, y_pred)\n",
    "    \n",
    "    return pd.DataFrame([MAE, MSE, RMSE, R2_Score], index=['MAE', 'MSE', 'RMSE' ,'R2-Score'], \n",
    "                        columns=[model_name])"
   ]
  },
  {
   "attachments": {},
   "cell_type": "markdown",
   "metadata": {},
   "source": [
    "Reached on Time:\n",
    "predict whether the ordered product will be reached on time or not"
   ]
  },
  {
   "cell_type": "code",
   "execution_count": 126,
   "metadata": {},
   "outputs": [],
   "source": [
    "x = df_test.drop(['Reached.on.Time_Y.N'], axis=1)\n",
    "y = df_test['Reached.on.Time_Y.N']"
   ]
  },
  {
   "cell_type": "code",
   "execution_count": 127,
   "metadata": {},
   "outputs": [
    {
     "data": {
      "text/plain": [
       "((7369, 16), (3630, 16))"
      ]
     },
     "execution_count": 127,
     "metadata": {},
     "output_type": "execute_result"
    }
   ],
   "source": [
    "x_train, x_test, y_train, y_test = train_test_split(x, y, test_size = 0.33, random_state = 42)\n",
    "x_train.shape, x_test.shape"
   ]
  },
  {
   "attachments": {},
   "cell_type": "markdown",
   "metadata": {},
   "source": [
    "Logistic Regression:"
   ]
  },
  {
   "cell_type": "code",
   "execution_count": 128,
   "metadata": {},
   "outputs": [
    {
     "data": {
      "text/html": [
       "<style>#sk-container-id-6 {color: black;background-color: white;}#sk-container-id-6 pre{padding: 0;}#sk-container-id-6 div.sk-toggleable {background-color: white;}#sk-container-id-6 label.sk-toggleable__label {cursor: pointer;display: block;width: 100%;margin-bottom: 0;padding: 0.3em;box-sizing: border-box;text-align: center;}#sk-container-id-6 label.sk-toggleable__label-arrow:before {content: \"▸\";float: left;margin-right: 0.25em;color: #696969;}#sk-container-id-6 label.sk-toggleable__label-arrow:hover:before {color: black;}#sk-container-id-6 div.sk-estimator:hover label.sk-toggleable__label-arrow:before {color: black;}#sk-container-id-6 div.sk-toggleable__content {max-height: 0;max-width: 0;overflow: hidden;text-align: left;background-color: #f0f8ff;}#sk-container-id-6 div.sk-toggleable__content pre {margin: 0.2em;color: black;border-radius: 0.25em;background-color: #f0f8ff;}#sk-container-id-6 input.sk-toggleable__control:checked~div.sk-toggleable__content {max-height: 200px;max-width: 100%;overflow: auto;}#sk-container-id-6 input.sk-toggleable__control:checked~label.sk-toggleable__label-arrow:before {content: \"▾\";}#sk-container-id-6 div.sk-estimator input.sk-toggleable__control:checked~label.sk-toggleable__label {background-color: #d4ebff;}#sk-container-id-6 div.sk-label input.sk-toggleable__control:checked~label.sk-toggleable__label {background-color: #d4ebff;}#sk-container-id-6 input.sk-hidden--visually {border: 0;clip: rect(1px 1px 1px 1px);clip: rect(1px, 1px, 1px, 1px);height: 1px;margin: -1px;overflow: hidden;padding: 0;position: absolute;width: 1px;}#sk-container-id-6 div.sk-estimator {font-family: monospace;background-color: #f0f8ff;border: 1px dotted black;border-radius: 0.25em;box-sizing: border-box;margin-bottom: 0.5em;}#sk-container-id-6 div.sk-estimator:hover {background-color: #d4ebff;}#sk-container-id-6 div.sk-parallel-item::after {content: \"\";width: 100%;border-bottom: 1px solid gray;flex-grow: 1;}#sk-container-id-6 div.sk-label:hover label.sk-toggleable__label {background-color: #d4ebff;}#sk-container-id-6 div.sk-serial::before {content: \"\";position: absolute;border-left: 1px solid gray;box-sizing: border-box;top: 0;bottom: 0;left: 50%;z-index: 0;}#sk-container-id-6 div.sk-serial {display: flex;flex-direction: column;align-items: center;background-color: white;padding-right: 0.2em;padding-left: 0.2em;position: relative;}#sk-container-id-6 div.sk-item {position: relative;z-index: 1;}#sk-container-id-6 div.sk-parallel {display: flex;align-items: stretch;justify-content: center;background-color: white;position: relative;}#sk-container-id-6 div.sk-item::before, #sk-container-id-6 div.sk-parallel-item::before {content: \"\";position: absolute;border-left: 1px solid gray;box-sizing: border-box;top: 0;bottom: 0;left: 50%;z-index: -1;}#sk-container-id-6 div.sk-parallel-item {display: flex;flex-direction: column;z-index: 1;position: relative;background-color: white;}#sk-container-id-6 div.sk-parallel-item:first-child::after {align-self: flex-end;width: 50%;}#sk-container-id-6 div.sk-parallel-item:last-child::after {align-self: flex-start;width: 50%;}#sk-container-id-6 div.sk-parallel-item:only-child::after {width: 0;}#sk-container-id-6 div.sk-dashed-wrapped {border: 1px dashed gray;margin: 0 0.4em 0.5em 0.4em;box-sizing: border-box;padding-bottom: 0.4em;background-color: white;}#sk-container-id-6 div.sk-label label {font-family: monospace;font-weight: bold;display: inline-block;line-height: 1.2em;}#sk-container-id-6 div.sk-label-container {text-align: center;}#sk-container-id-6 div.sk-container {/* jupyter's `normalize.less` sets `[hidden] { display: none; }` but bootstrap.min.css set `[hidden] { display: none !important; }` so we also need the `!important` here to be able to override the default hidden behavior on the sphinx rendered scikit-learn.org. See: https://github.com/scikit-learn/scikit-learn/issues/21755 */display: inline-block !important;position: relative;}#sk-container-id-6 div.sk-text-repr-fallback {display: none;}</style><div id=\"sk-container-id-6\" class=\"sk-top-container\"><div class=\"sk-text-repr-fallback\"><pre>LogisticRegression(random_state=42, solver=&#x27;liblinear&#x27;)</pre><b>In a Jupyter environment, please rerun this cell to show the HTML representation or trust the notebook. <br />On GitHub, the HTML representation is unable to render, please try loading this page with nbviewer.org.</b></div><div class=\"sk-container\" hidden><div class=\"sk-item\"><div class=\"sk-estimator sk-toggleable\"><input class=\"sk-toggleable__control sk-hidden--visually\" id=\"sk-estimator-id-6\" type=\"checkbox\" checked><label for=\"sk-estimator-id-6\" class=\"sk-toggleable__label sk-toggleable__label-arrow\">LogisticRegression</label><div class=\"sk-toggleable__content\"><pre>LogisticRegression(random_state=42, solver=&#x27;liblinear&#x27;)</pre></div></div></div></div></div>"
      ],
      "text/plain": [
       "LogisticRegression(random_state=42, solver='liblinear')"
      ]
     },
     "execution_count": 128,
     "metadata": {},
     "output_type": "execute_result"
    }
   ],
   "source": [
    "logreg = LogisticRegression(solver=\"liblinear\", random_state = 42)\n",
    "logreg.fit(x_train, y_train)"
   ]
  },
  {
   "cell_type": "code",
   "execution_count": 129,
   "metadata": {},
   "outputs": [
    {
     "data": {
      "text/plain": [
       "array([[-0.61295593,  0.14760621, -0.46236457, -0.6323301 , -0.07930056,\n",
       "         0.02100516,  6.46777355, -1.60343131,  0.04650934,  0.15411416,\n",
       "         0.18497371,  0.08820252,  0.09632373,  0.21072919,  0.16312526,\n",
       "         0.19626899]])"
      ]
     },
     "execution_count": 129,
     "metadata": {},
     "output_type": "execute_result"
    }
   ],
   "source": [
    "logreg.coef_"
   ]
  },
  {
   "cell_type": "code",
   "execution_count": 130,
   "metadata": {},
   "outputs": [
    {
     "data": {
      "text/plain": [
       "array([0.57012345])"
      ]
     },
     "execution_count": 130,
     "metadata": {},
     "output_type": "execute_result"
    }
   ],
   "source": [
    "logreg.intercept_"
   ]
  },
  {
   "cell_type": "code",
   "execution_count": 131,
   "metadata": {},
   "outputs": [],
   "source": [
    "y_pred_test = logreg.predict(x_test)"
   ]
  },
  {
   "cell_type": "code",
   "execution_count": 132,
   "metadata": {},
   "outputs": [
    {
     "name": "stdout",
     "output_type": "stream",
     "text": [
      "0.6355371900826446\n"
     ]
    }
   ],
   "source": [
    "print(accuracy_score(y_test, y_pred_test))"
   ]
  },
  {
   "cell_type": "code",
   "execution_count": 133,
   "metadata": {},
   "outputs": [
    {
     "name": "stdout",
     "output_type": "stream",
     "text": [
      "0.6436422852490161\n"
     ]
    }
   ],
   "source": [
    "y_pred_train = logreg.predict(x_train)\n",
    "y_pred_train\n",
    "\n",
    "print(accuracy_score(y_train, y_pred_train))"
   ]
  },
  {
   "cell_type": "code",
   "execution_count": 134,
   "metadata": {},
   "outputs": [
    {
     "name": "stdout",
     "output_type": "stream",
     "text": [
      "              precision    recall  f1-score   support\n",
      "\n",
      "           0       0.54      0.56      0.55      1446\n",
      "           1       0.70      0.69      0.69      2184\n",
      "\n",
      "    accuracy                           0.64      3630\n",
      "   macro avg       0.62      0.62      0.62      3630\n",
      "weighted avg       0.64      0.64      0.64      3630\n",
      "\n"
     ]
    }
   ],
   "source": [
    "print(classification_report(y_test, y_pred_test))"
   ]
  },
  {
   "cell_type": "code",
   "execution_count": 135,
   "metadata": {},
   "outputs": [
    {
     "name": "stdout",
     "output_type": "stream",
     "text": [
      "Accuracy scores for each fold: [0.63363636 0.63727273 0.63090909 0.64636364 0.65272727 0.61727273\n",
      " 0.64636364 0.63818182 0.63454545 0.64513194]\n"
     ]
    }
   ],
   "source": [
    "kf = KFold(n_splits=10, shuffle=True, random_state=42)\n",
    "\n",
    "score = cross_val_score(logreg, x, y, cv=kf, scoring=\"accuracy\")\n",
    "print(f'Accuracy scores for each fold: {score}')"
   ]
  },
  {
   "cell_type": "code",
   "execution_count": 136,
   "metadata": {},
   "outputs": [
    {
     "name": "stdout",
     "output_type": "stream",
     "text": [
      "{'C': 10}\n",
      "0.6403851542681849\n"
     ]
    }
   ],
   "source": [
    "parameters = [{\"C\":[1, 10, 100, 1000]}]\n",
    "\n",
    "grid_search = GridSearchCV(estimator=logreg, param_grid=parameters, scoring=\"accuracy\", cv=10, verbose=0) #verbose is always 0\n",
    "grid_search.fit(x_train, y_train)\n",
    "\n",
    "print(grid_search.best_params_)\n",
    "print(grid_search.best_score_)"
   ]
  },
  {
   "attachments": {},
   "cell_type": "markdown",
   "metadata": {},
   "source": [
    "Polynomial Regression:"
   ]
  },
  {
   "cell_type": "code",
   "execution_count": null,
   "metadata": {},
   "outputs": [],
   "source": [
    "poly_features = PolynomialFeatures(degree=4, include_bias=False)\n",
    "\n",
    "x_poly = poly_features.fit_transform(x)\n",
    "x_poly = pd.DataFrame(x_poly, columns = poly_features.get_feature_names_out(x.columns))\n"
   ]
  },
  {
   "cell_type": "code",
   "execution_count": null,
   "metadata": {},
   "outputs": [],
   "source": [
    "x_poly_train, x_poly_test, y_poly_train, y_poly_test = train_test_split(x_poly, y, test_size=0.25, random_state=42)"
   ]
  },
  {
   "cell_type": "code",
   "execution_count": null,
   "metadata": {},
   "outputs": [
    {
     "data": {
      "text/html": [
       "<style>#sk-container-id-2 {color: black;background-color: white;}#sk-container-id-2 pre{padding: 0;}#sk-container-id-2 div.sk-toggleable {background-color: white;}#sk-container-id-2 label.sk-toggleable__label {cursor: pointer;display: block;width: 100%;margin-bottom: 0;padding: 0.3em;box-sizing: border-box;text-align: center;}#sk-container-id-2 label.sk-toggleable__label-arrow:before {content: \"▸\";float: left;margin-right: 0.25em;color: #696969;}#sk-container-id-2 label.sk-toggleable__label-arrow:hover:before {color: black;}#sk-container-id-2 div.sk-estimator:hover label.sk-toggleable__label-arrow:before {color: black;}#sk-container-id-2 div.sk-toggleable__content {max-height: 0;max-width: 0;overflow: hidden;text-align: left;background-color: #f0f8ff;}#sk-container-id-2 div.sk-toggleable__content pre {margin: 0.2em;color: black;border-radius: 0.25em;background-color: #f0f8ff;}#sk-container-id-2 input.sk-toggleable__control:checked~div.sk-toggleable__content {max-height: 200px;max-width: 100%;overflow: auto;}#sk-container-id-2 input.sk-toggleable__control:checked~label.sk-toggleable__label-arrow:before {content: \"▾\";}#sk-container-id-2 div.sk-estimator input.sk-toggleable__control:checked~label.sk-toggleable__label {background-color: #d4ebff;}#sk-container-id-2 div.sk-label input.sk-toggleable__control:checked~label.sk-toggleable__label {background-color: #d4ebff;}#sk-container-id-2 input.sk-hidden--visually {border: 0;clip: rect(1px 1px 1px 1px);clip: rect(1px, 1px, 1px, 1px);height: 1px;margin: -1px;overflow: hidden;padding: 0;position: absolute;width: 1px;}#sk-container-id-2 div.sk-estimator {font-family: monospace;background-color: #f0f8ff;border: 1px dotted black;border-radius: 0.25em;box-sizing: border-box;margin-bottom: 0.5em;}#sk-container-id-2 div.sk-estimator:hover {background-color: #d4ebff;}#sk-container-id-2 div.sk-parallel-item::after {content: \"\";width: 100%;border-bottom: 1px solid gray;flex-grow: 1;}#sk-container-id-2 div.sk-label:hover label.sk-toggleable__label {background-color: #d4ebff;}#sk-container-id-2 div.sk-serial::before {content: \"\";position: absolute;border-left: 1px solid gray;box-sizing: border-box;top: 0;bottom: 0;left: 50%;z-index: 0;}#sk-container-id-2 div.sk-serial {display: flex;flex-direction: column;align-items: center;background-color: white;padding-right: 0.2em;padding-left: 0.2em;position: relative;}#sk-container-id-2 div.sk-item {position: relative;z-index: 1;}#sk-container-id-2 div.sk-parallel {display: flex;align-items: stretch;justify-content: center;background-color: white;position: relative;}#sk-container-id-2 div.sk-item::before, #sk-container-id-2 div.sk-parallel-item::before {content: \"\";position: absolute;border-left: 1px solid gray;box-sizing: border-box;top: 0;bottom: 0;left: 50%;z-index: -1;}#sk-container-id-2 div.sk-parallel-item {display: flex;flex-direction: column;z-index: 1;position: relative;background-color: white;}#sk-container-id-2 div.sk-parallel-item:first-child::after {align-self: flex-end;width: 50%;}#sk-container-id-2 div.sk-parallel-item:last-child::after {align-self: flex-start;width: 50%;}#sk-container-id-2 div.sk-parallel-item:only-child::after {width: 0;}#sk-container-id-2 div.sk-dashed-wrapped {border: 1px dashed gray;margin: 0 0.4em 0.5em 0.4em;box-sizing: border-box;padding-bottom: 0.4em;background-color: white;}#sk-container-id-2 div.sk-label label {font-family: monospace;font-weight: bold;display: inline-block;line-height: 1.2em;}#sk-container-id-2 div.sk-label-container {text-align: center;}#sk-container-id-2 div.sk-container {/* jupyter's `normalize.less` sets `[hidden] { display: none; }` but bootstrap.min.css set `[hidden] { display: none !important; }` so we also need the `!important` here to be able to override the default hidden behavior on the sphinx rendered scikit-learn.org. See: https://github.com/scikit-learn/scikit-learn/issues/21755 */display: inline-block !important;position: relative;}#sk-container-id-2 div.sk-text-repr-fallback {display: none;}</style><div id=\"sk-container-id-2\" class=\"sk-top-container\"><div class=\"sk-text-repr-fallback\"><pre>LinearRegression()</pre><b>In a Jupyter environment, please rerun this cell to show the HTML representation or trust the notebook. <br />On GitHub, the HTML representation is unable to render, please try loading this page with nbviewer.org.</b></div><div class=\"sk-container\" hidden><div class=\"sk-item\"><div class=\"sk-estimator sk-toggleable\"><input class=\"sk-toggleable__control sk-hidden--visually\" id=\"sk-estimator-id-2\" type=\"checkbox\" checked><label for=\"sk-estimator-id-2\" class=\"sk-toggleable__label sk-toggleable__label-arrow\">LinearRegression</label><div class=\"sk-toggleable__content\"><pre>LinearRegression()</pre></div></div></div></div></div>"
      ],
      "text/plain": [
       "LinearRegression()"
      ]
     },
     "execution_count": 63,
     "metadata": {},
     "output_type": "execute_result"
    }
   ],
   "source": [
    "poly_reg = LinearRegression()\n",
    "poly_reg.fit(x_poly_train, y_poly_train)"
   ]
  },
  {
   "cell_type": "code",
   "execution_count": null,
   "metadata": {},
   "outputs": [],
   "source": [
    "y_poly_pred = poly_reg.predict(x_poly_test)"
   ]
  },
  {
   "cell_type": "code",
   "execution_count": null,
   "metadata": {},
   "outputs": [
    {
     "data": {
      "text/html": [
       "<div>\n",
       "<style scoped>\n",
       "    .dataframe tbody tr th:only-of-type {\n",
       "        vertical-align: middle;\n",
       "    }\n",
       "\n",
       "    .dataframe tbody tr th {\n",
       "        vertical-align: top;\n",
       "    }\n",
       "\n",
       "    .dataframe thead th {\n",
       "        text-align: right;\n",
       "    }\n",
       "</style>\n",
       "<table border=\"1\" class=\"dataframe\">\n",
       "  <thead>\n",
       "    <tr style=\"text-align: right;\">\n",
       "      <th></th>\n",
       "      <th>Poly Reg. Results</th>\n",
       "    </tr>\n",
       "  </thead>\n",
       "  <tbody>\n",
       "    <tr>\n",
       "      <th>MAE</th>\n",
       "      <td>0.388175</td>\n",
       "    </tr>\n",
       "    <tr>\n",
       "      <th>MSE</th>\n",
       "      <td>0.187836</td>\n",
       "    </tr>\n",
       "    <tr>\n",
       "      <th>RMSE</th>\n",
       "      <td>0.433400</td>\n",
       "    </tr>\n",
       "    <tr>\n",
       "      <th>R2-Score</th>\n",
       "      <td>0.217352</td>\n",
       "    </tr>\n",
       "  </tbody>\n",
       "</table>\n",
       "</div>"
      ],
      "text/plain": [
       "          Poly Reg. Results\n",
       "MAE                0.388175\n",
       "MSE                0.187836\n",
       "RMSE               0.433400\n",
       "R2-Score           0.217352"
      ]
     },
     "execution_count": 65,
     "metadata": {},
     "output_type": "execute_result"
    }
   ],
   "source": [
    "model_evaluation(poly_reg, x_poly_test, y_poly_test, 'Poly Reg. Results')\n"
   ]
  },
  {
   "cell_type": "code",
   "execution_count": null,
   "metadata": {},
   "outputs": [
    {
     "data": {
      "text/html": [
       "<div>\n",
       "<style scoped>\n",
       "    .dataframe tbody tr th:only-of-type {\n",
       "        vertical-align: middle;\n",
       "    }\n",
       "\n",
       "    .dataframe tbody tr th {\n",
       "        vertical-align: top;\n",
       "    }\n",
       "\n",
       "    .dataframe thead th {\n",
       "        text-align: right;\n",
       "    }\n",
       "</style>\n",
       "<table border=\"1\" class=\"dataframe\">\n",
       "  <thead>\n",
       "    <tr style=\"text-align: right;\">\n",
       "      <th></th>\n",
       "      <th>Poly Reg. Results_Train</th>\n",
       "    </tr>\n",
       "  </thead>\n",
       "  <tbody>\n",
       "    <tr>\n",
       "      <th>MAE</th>\n",
       "      <td>0.390245</td>\n",
       "    </tr>\n",
       "    <tr>\n",
       "      <th>MSE</th>\n",
       "      <td>0.189930</td>\n",
       "    </tr>\n",
       "    <tr>\n",
       "      <th>RMSE</th>\n",
       "      <td>0.435809</td>\n",
       "    </tr>\n",
       "    <tr>\n",
       "      <th>R2-Score</th>\n",
       "      <td>0.211461</td>\n",
       "    </tr>\n",
       "  </tbody>\n",
       "</table>\n",
       "</div>"
      ],
      "text/plain": [
       "          Poly Reg. Results_Train\n",
       "MAE                      0.390245\n",
       "MSE                      0.189930\n",
       "RMSE                     0.435809\n",
       "R2-Score                 0.211461"
      ]
     },
     "execution_count": 66,
     "metadata": {},
     "output_type": "execute_result"
    }
   ],
   "source": [
    "model_evaluation(poly_reg, x_poly_train, y_poly_train, 'Poly Reg. Results_Train')"
   ]
  },
  {
   "attachments": {},
   "cell_type": "markdown",
   "metadata": {},
   "source": [
    "KNN:"
   ]
  },
  {
   "cell_type": "code",
   "execution_count": 137,
   "metadata": {},
   "outputs": [
    {
     "data": {
      "text/html": [
       "<style>#sk-container-id-7 {color: black;background-color: white;}#sk-container-id-7 pre{padding: 0;}#sk-container-id-7 div.sk-toggleable {background-color: white;}#sk-container-id-7 label.sk-toggleable__label {cursor: pointer;display: block;width: 100%;margin-bottom: 0;padding: 0.3em;box-sizing: border-box;text-align: center;}#sk-container-id-7 label.sk-toggleable__label-arrow:before {content: \"▸\";float: left;margin-right: 0.25em;color: #696969;}#sk-container-id-7 label.sk-toggleable__label-arrow:hover:before {color: black;}#sk-container-id-7 div.sk-estimator:hover label.sk-toggleable__label-arrow:before {color: black;}#sk-container-id-7 div.sk-toggleable__content {max-height: 0;max-width: 0;overflow: hidden;text-align: left;background-color: #f0f8ff;}#sk-container-id-7 div.sk-toggleable__content pre {margin: 0.2em;color: black;border-radius: 0.25em;background-color: #f0f8ff;}#sk-container-id-7 input.sk-toggleable__control:checked~div.sk-toggleable__content {max-height: 200px;max-width: 100%;overflow: auto;}#sk-container-id-7 input.sk-toggleable__control:checked~label.sk-toggleable__label-arrow:before {content: \"▾\";}#sk-container-id-7 div.sk-estimator input.sk-toggleable__control:checked~label.sk-toggleable__label {background-color: #d4ebff;}#sk-container-id-7 div.sk-label input.sk-toggleable__control:checked~label.sk-toggleable__label {background-color: #d4ebff;}#sk-container-id-7 input.sk-hidden--visually {border: 0;clip: rect(1px 1px 1px 1px);clip: rect(1px, 1px, 1px, 1px);height: 1px;margin: -1px;overflow: hidden;padding: 0;position: absolute;width: 1px;}#sk-container-id-7 div.sk-estimator {font-family: monospace;background-color: #f0f8ff;border: 1px dotted black;border-radius: 0.25em;box-sizing: border-box;margin-bottom: 0.5em;}#sk-container-id-7 div.sk-estimator:hover {background-color: #d4ebff;}#sk-container-id-7 div.sk-parallel-item::after {content: \"\";width: 100%;border-bottom: 1px solid gray;flex-grow: 1;}#sk-container-id-7 div.sk-label:hover label.sk-toggleable__label {background-color: #d4ebff;}#sk-container-id-7 div.sk-serial::before {content: \"\";position: absolute;border-left: 1px solid gray;box-sizing: border-box;top: 0;bottom: 0;left: 50%;z-index: 0;}#sk-container-id-7 div.sk-serial {display: flex;flex-direction: column;align-items: center;background-color: white;padding-right: 0.2em;padding-left: 0.2em;position: relative;}#sk-container-id-7 div.sk-item {position: relative;z-index: 1;}#sk-container-id-7 div.sk-parallel {display: flex;align-items: stretch;justify-content: center;background-color: white;position: relative;}#sk-container-id-7 div.sk-item::before, #sk-container-id-7 div.sk-parallel-item::before {content: \"\";position: absolute;border-left: 1px solid gray;box-sizing: border-box;top: 0;bottom: 0;left: 50%;z-index: -1;}#sk-container-id-7 div.sk-parallel-item {display: flex;flex-direction: column;z-index: 1;position: relative;background-color: white;}#sk-container-id-7 div.sk-parallel-item:first-child::after {align-self: flex-end;width: 50%;}#sk-container-id-7 div.sk-parallel-item:last-child::after {align-self: flex-start;width: 50%;}#sk-container-id-7 div.sk-parallel-item:only-child::after {width: 0;}#sk-container-id-7 div.sk-dashed-wrapped {border: 1px dashed gray;margin: 0 0.4em 0.5em 0.4em;box-sizing: border-box;padding-bottom: 0.4em;background-color: white;}#sk-container-id-7 div.sk-label label {font-family: monospace;font-weight: bold;display: inline-block;line-height: 1.2em;}#sk-container-id-7 div.sk-label-container {text-align: center;}#sk-container-id-7 div.sk-container {/* jupyter's `normalize.less` sets `[hidden] { display: none; }` but bootstrap.min.css set `[hidden] { display: none !important; }` so we also need the `!important` here to be able to override the default hidden behavior on the sphinx rendered scikit-learn.org. See: https://github.com/scikit-learn/scikit-learn/issues/21755 */display: inline-block !important;position: relative;}#sk-container-id-7 div.sk-text-repr-fallback {display: none;}</style><div id=\"sk-container-id-7\" class=\"sk-top-container\"><div class=\"sk-text-repr-fallback\"><pre>KNeighborsClassifier(n_neighbors=3)</pre><b>In a Jupyter environment, please rerun this cell to show the HTML representation or trust the notebook. <br />On GitHub, the HTML representation is unable to render, please try loading this page with nbviewer.org.</b></div><div class=\"sk-container\" hidden><div class=\"sk-item\"><div class=\"sk-estimator sk-toggleable\"><input class=\"sk-toggleable__control sk-hidden--visually\" id=\"sk-estimator-id-7\" type=\"checkbox\" checked><label for=\"sk-estimator-id-7\" class=\"sk-toggleable__label sk-toggleable__label-arrow\">KNeighborsClassifier</label><div class=\"sk-toggleable__content\"><pre>KNeighborsClassifier(n_neighbors=3)</pre></div></div></div></div></div>"
      ],
      "text/plain": [
       "KNeighborsClassifier(n_neighbors=3)"
      ]
     },
     "execution_count": 137,
     "metadata": {},
     "output_type": "execute_result"
    }
   ],
   "source": [
    "knn = KNeighborsClassifier(n_neighbors=3)\n",
    "knn.fit(x_train,y_train)"
   ]
  },
  {
   "cell_type": "code",
   "execution_count": 138,
   "metadata": {},
   "outputs": [],
   "source": [
    "y_pred = knn.predict(x_test)"
   ]
  },
  {
   "cell_type": "code",
   "execution_count": 139,
   "metadata": {},
   "outputs": [
    {
     "name": "stdout",
     "output_type": "stream",
     "text": [
      "0.6322314049586777\n"
     ]
    }
   ],
   "source": [
    "print(accuracy_score(y_test, y_pred))"
   ]
  },
  {
   "cell_type": "code",
   "execution_count": 140,
   "metadata": {},
   "outputs": [],
   "source": [
    "y_pred_train_knn = knn.predict(x_train)"
   ]
  },
  {
   "cell_type": "code",
   "execution_count": 141,
   "metadata": {},
   "outputs": [
    {
     "name": "stdout",
     "output_type": "stream",
     "text": [
      "0.8128647034875831\n"
     ]
    }
   ],
   "source": [
    "print(accuracy_score(y_train, y_pred_train_knn))"
   ]
  },
  {
   "cell_type": "code",
   "execution_count": 142,
   "metadata": {},
   "outputs": [
    {
     "name": "stdout",
     "output_type": "stream",
     "text": [
      "Accuracy scores for each fold: [0.63272727 0.61909091 0.64090909 0.63909091 0.63909091 0.58818182\n",
      " 0.63181818 0.63272727 0.64727273 0.62056415]\n"
     ]
    }
   ],
   "source": [
    "kf = KFold(n_splits=10, shuffle=True, random_state=42)\n",
    "\n",
    "score = cross_val_score(knn, x, y, cv=kf, scoring=\"accuracy\")\n",
    "print(f'Accuracy scores for each fold: {score}')"
   ]
  },
  {
   "cell_type": "code",
   "execution_count": 143,
   "metadata": {},
   "outputs": [],
   "source": [
    "neighbors = np.arange(1,40)\n",
    "\n",
    "test_accuracy = np.empty(len(neighbors))\n",
    "\n",
    "for i,k in enumerate(neighbors):\n",
    "    knn = KNeighborsClassifier(n_neighbors=k)\n",
    "    knn.fit(x_train, y_train)\n",
    "    test_accuracy[i] = knn.score(x_test, y_test)"
   ]
  },
  {
   "cell_type": "code",
   "execution_count": 144,
   "metadata": {},
   "outputs": [
    {
     "data": {
      "image/png": "[encoded data removed]",
      "text/plain": [
       "<Figure size 640x480 with 1 Axes>"
      ]
     },
     "metadata": {},
     "output_type": "display_data"
    }
   ],
   "source": [
    "plt.title(\"kNN Evaluation\")\n",
    "plt.plot(neighbors, test_accuracy, label=\"Testing Accuracy\", )\n",
    "plt.legend()\n",
    "plt.xlabel(\"Number of neighbors\")\n",
    "plt.ylabel(\"Accuracy\")\n",
    "plt.show()"
   ]
  },
  {
   "cell_type": "code",
   "execution_count": null,
   "metadata": {},
   "outputs": [],
   "source": []
  },
  {
   "attachments": {},
   "cell_type": "markdown",
   "metadata": {},
   "source": [
    "Decision Tree:"
   ]
  },
  {
   "cell_type": "code",
   "execution_count": 145,
   "metadata": {},
   "outputs": [
    {
     "data": {
      "text/html": [
       "<style>#sk-container-id-8 {color: black;background-color: white;}#sk-container-id-8 pre{padding: 0;}#sk-container-id-8 div.sk-toggleable {background-color: white;}#sk-container-id-8 label.sk-toggleable__label {cursor: pointer;display: block;width: 100%;margin-bottom: 0;padding: 0.3em;box-sizing: border-box;text-align: center;}#sk-container-id-8 label.sk-toggleable__label-arrow:before {content: \"▸\";float: left;margin-right: 0.25em;color: #696969;}#sk-container-id-8 label.sk-toggleable__label-arrow:hover:before {color: black;}#sk-container-id-8 div.sk-estimator:hover label.sk-toggleable__label-arrow:before {color: black;}#sk-container-id-8 div.sk-toggleable__content {max-height: 0;max-width: 0;overflow: hidden;text-align: left;background-color: #f0f8ff;}#sk-container-id-8 div.sk-toggleable__content pre {margin: 0.2em;color: black;border-radius: 0.25em;background-color: #f0f8ff;}#sk-container-id-8 input.sk-toggleable__control:checked~div.sk-toggleable__content {max-height: 200px;max-width: 100%;overflow: auto;}#sk-container-id-8 input.sk-toggleable__control:checked~label.sk-toggleable__label-arrow:before {content: \"▾\";}#sk-container-id-8 div.sk-estimator input.sk-toggleable__control:checked~label.sk-toggleable__label {background-color: #d4ebff;}#sk-container-id-8 div.sk-label input.sk-toggleable__control:checked~label.sk-toggleable__label {background-color: #d4ebff;}#sk-container-id-8 input.sk-hidden--visually {border: 0;clip: rect(1px 1px 1px 1px);clip: rect(1px, 1px, 1px, 1px);height: 1px;margin: -1px;overflow: hidden;padding: 0;position: absolute;width: 1px;}#sk-container-id-8 div.sk-estimator {font-family: monospace;background-color: #f0f8ff;border: 1px dotted black;border-radius: 0.25em;box-sizing: border-box;margin-bottom: 0.5em;}#sk-container-id-8 div.sk-estimator:hover {background-color: #d4ebff;}#sk-container-id-8 div.sk-parallel-item::after {content: \"\";width: 100%;border-bottom: 1px solid gray;flex-grow: 1;}#sk-container-id-8 div.sk-label:hover label.sk-toggleable__label {background-color: #d4ebff;}#sk-container-id-8 div.sk-serial::before {content: \"\";position: absolute;border-left: 1px solid gray;box-sizing: border-box;top: 0;bottom: 0;left: 50%;z-index: 0;}#sk-container-id-8 div.sk-serial {display: flex;flex-direction: column;align-items: center;background-color: white;padding-right: 0.2em;padding-left: 0.2em;position: relative;}#sk-container-id-8 div.sk-item {position: relative;z-index: 1;}#sk-container-id-8 div.sk-parallel {display: flex;align-items: stretch;justify-content: center;background-color: white;position: relative;}#sk-container-id-8 div.sk-item::before, #sk-container-id-8 div.sk-parallel-item::before {content: \"\";position: absolute;border-left: 1px solid gray;box-sizing: border-box;top: 0;bottom: 0;left: 50%;z-index: -1;}#sk-container-id-8 div.sk-parallel-item {display: flex;flex-direction: column;z-index: 1;position: relative;background-color: white;}#sk-container-id-8 div.sk-parallel-item:first-child::after {align-self: flex-end;width: 50%;}#sk-container-id-8 div.sk-parallel-item:last-child::after {align-self: flex-start;width: 50%;}#sk-container-id-8 div.sk-parallel-item:only-child::after {width: 0;}#sk-container-id-8 div.sk-dashed-wrapped {border: 1px dashed gray;margin: 0 0.4em 0.5em 0.4em;box-sizing: border-box;padding-bottom: 0.4em;background-color: white;}#sk-container-id-8 div.sk-label label {font-family: monospace;font-weight: bold;display: inline-block;line-height: 1.2em;}#sk-container-id-8 div.sk-label-container {text-align: center;}#sk-container-id-8 div.sk-container {/* jupyter's `normalize.less` sets `[hidden] { display: none; }` but bootstrap.min.css set `[hidden] { display: none !important; }` so we also need the `!important` here to be able to override the default hidden behavior on the sphinx rendered scikit-learn.org. See: https://github.com/scikit-learn/scikit-learn/issues/21755 */display: inline-block !important;position: relative;}#sk-container-id-8 div.sk-text-repr-fallback {display: none;}</style><div id=\"sk-container-id-8\" class=\"sk-top-container\"><div class=\"sk-text-repr-fallback\"><pre>DecisionTreeClassifier(max_depth=3, random_state=42)</pre><b>In a Jupyter environment, please rerun this cell to show the HTML representation or trust the notebook. <br />On GitHub, the HTML representation is unable to render, please try loading this page with nbviewer.org.</b></div><div class=\"sk-container\" hidden><div class=\"sk-item\"><div class=\"sk-estimator sk-toggleable\"><input class=\"sk-toggleable__control sk-hidden--visually\" id=\"sk-estimator-id-8\" type=\"checkbox\" checked><label for=\"sk-estimator-id-8\" class=\"sk-toggleable__label sk-toggleable__label-arrow\">DecisionTreeClassifier</label><div class=\"sk-toggleable__content\"><pre>DecisionTreeClassifier(max_depth=3, random_state=42)</pre></div></div></div></div></div>"
      ],
      "text/plain": [
       "DecisionTreeClassifier(max_depth=3, random_state=42)"
      ]
     },
     "execution_count": 145,
     "metadata": {},
     "output_type": "execute_result"
    }
   ],
   "source": [
    "dt_gini = DecisionTreeClassifier(criterion='gini', splitter='best', max_depth=3, min_samples_split=2, min_samples_leaf=1, random_state=42)\n",
    "dt_gini.fit(x_train, y_train)"
   ]
  },
  {
   "cell_type": "code",
   "execution_count": 146,
   "metadata": {},
   "outputs": [],
   "source": [
    "y_pred_test_gini = dt_gini.predict(x_test)"
   ]
  },
  {
   "cell_type": "code",
   "execution_count": 147,
   "metadata": {},
   "outputs": [
    {
     "name": "stdout",
     "output_type": "stream",
     "text": [
      "0.6754820936639119\n"
     ]
    }
   ],
   "source": [
    "print(accuracy_score(y_test, y_pred_test_gini))"
   ]
  },
  {
   "cell_type": "code",
   "execution_count": 148,
   "metadata": {},
   "outputs": [
    {
     "name": "stdout",
     "output_type": "stream",
     "text": [
      "0.6782467091871353\n"
     ]
    }
   ],
   "source": [
    "y_pred_train_gini = dt_gini.predict(x_train)\n",
    "\n",
    "print(accuracy_score(y_train, y_pred_train_gini))"
   ]
  },
  {
   "cell_type": "code",
   "execution_count": 149,
   "metadata": {},
   "outputs": [
    {
     "name": "stdout",
     "output_type": "stream",
     "text": [
      "              precision    recall  f1-score   support\n",
      "\n",
      "           0       0.55      0.96      0.70      1446\n",
      "           1       0.94      0.49      0.64      2184\n",
      "\n",
      "    accuracy                           0.68      3630\n",
      "   macro avg       0.75      0.72      0.67      3630\n",
      "weighted avg       0.79      0.68      0.67      3630\n",
      "\n"
     ]
    }
   ],
   "source": [
    "print(classification_report(y_test, y_pred_test_gini))"
   ]
  },
  {
   "cell_type": "code",
   "execution_count": 150,
   "metadata": {},
   "outputs": [
    {
     "name": "stdout",
     "output_type": "stream",
     "text": [
      "Accuracy scores for each fold: [0.66363636 0.69181818 0.66181818 0.68363636 0.68363636 0.67727273\n",
      " 0.65363636 0.66636364 0.69636364 0.68061874]\n"
     ]
    }
   ],
   "source": [
    "#does cross validation for 10 folds\n",
    "\n",
    "kf = KFold(n_splits=10, shuffle=True, random_state=42)\n",
    "\n",
    "score = cross_val_score(tree.DecisionTreeClassifier(criterion=\"gini\", splitter=\"best\", max_depth=3, min_samples_split=2, min_samples_leaf=1, random_state=42),\n",
    "                        x, y, cv=kf, scoring=\"accuracy\")\n",
    "print(f'Accuracy scores for each fold: {score}')"
   ]
  },
  {
   "cell_type": "code",
   "execution_count": 151,
   "metadata": {},
   "outputs": [
    {
     "name": "stdout",
     "output_type": "stream",
     "text": [
      "Average accuracy score(1): 0.644\n",
      "Average accuracy score(2): 0.671\n",
      "Average accuracy score(3): 0.676\n",
      "Average accuracy score(4): 0.680\n",
      "Average accuracy score(5): 0.682\n",
      "Average accuracy score(6): 0.680\n",
      "Average accuracy score(7): 0.677\n",
      "Average accuracy score(8): 0.675\n",
      "Average accuracy score(9): 0.671\n",
      "Average accuracy score(10): 0.666\n",
      "Average accuracy score(11): 0.669\n"
     ]
    }
   ],
   "source": [
    "#checks depth of tree 1-11 for average over 10 folds\n",
    "\n",
    "max_depth = range(1, 12)\n",
    "\n",
    "for val in max_depth:\n",
    "    score = cross_val_score(tree.DecisionTreeClassifier(criterion=\"gini\", splitter=\"best\", max_depth=val, min_samples_split=2, min_samples_leaf=1, random_state=42),\n",
    "                        x, y, cv=kf, scoring=\"accuracy\")\n",
    "    print(f'Average accuracy score({val}): {\"{:.3f}\".format(score.mean())}')"
   ]
  },
  {
   "cell_type": "code",
   "execution_count": 152,
   "metadata": {},
   "outputs": [
    {
     "name": "stdout",
     "output_type": "stream",
     "text": [
      "0.646831955922865\n"
     ]
    }
   ],
   "source": [
    "#decision tree and accuracy for tree without pruning\n",
    "\n",
    "dt_noparam = DecisionTreeClassifier(criterion=\"gini\", splitter=\"best\", random_state=42)\n",
    "dt_noparam.fit(x_train, y_train)\n",
    "\n",
    "y_pred = dt_noparam.predict(x_test)\n",
    "\n",
    "print(accuracy_score(y_test, y_pred))"
   ]
  },
  {
   "cell_type": "code",
   "execution_count": 153,
   "metadata": {},
   "outputs": [
    {
     "data": {
      "text/plain": [
       "{'max_depth': 4, 'min_samples_leaf': 1, 'min_samples_split': 2}"
      ]
     },
     "execution_count": 153,
     "metadata": {},
     "output_type": "execute_result"
    }
   ],
   "source": [
    "#checks best params for max_depth, min_leafs and min_splits\n",
    "\n",
    "params = {'max_depth': range(2,13,2), 'min_samples_split': range(2,5), 'min_samples_leaf': range(1,3)}\n",
    "\n",
    "clf=tree.DecisionTreeClassifier()\n",
    "\n",
    "gcv=GridSearchCV(estimator=clf, param_grid=params)\n",
    "gcv.fit(x_train, y_train)\n",
    "gcv.best_params_"
   ]
  },
  {
   "cell_type": "code",
   "execution_count": 154,
   "metadata": {},
   "outputs": [
    {
     "data": {
      "text/html": [
       "<style>#sk-container-id-9 {color: black;background-color: white;}#sk-container-id-9 pre{padding: 0;}#sk-container-id-9 div.sk-toggleable {background-color: white;}#sk-container-id-9 label.sk-toggleable__label {cursor: pointer;display: block;width: 100%;margin-bottom: 0;padding: 0.3em;box-sizing: border-box;text-align: center;}#sk-container-id-9 label.sk-toggleable__label-arrow:before {content: \"▸\";float: left;margin-right: 0.25em;color: #696969;}#sk-container-id-9 label.sk-toggleable__label-arrow:hover:before {color: black;}#sk-container-id-9 div.sk-estimator:hover label.sk-toggleable__label-arrow:before {color: black;}#sk-container-id-9 div.sk-toggleable__content {max-height: 0;max-width: 0;overflow: hidden;text-align: left;background-color: #f0f8ff;}#sk-container-id-9 div.sk-toggleable__content pre {margin: 0.2em;color: black;border-radius: 0.25em;background-color: #f0f8ff;}#sk-container-id-9 input.sk-toggleable__control:checked~div.sk-toggleable__content {max-height: 200px;max-width: 100%;overflow: auto;}#sk-container-id-9 input.sk-toggleable__control:checked~label.sk-toggleable__label-arrow:before {content: \"▾\";}#sk-container-id-9 div.sk-estimator input.sk-toggleable__control:checked~label.sk-toggleable__label {background-color: #d4ebff;}#sk-container-id-9 div.sk-label input.sk-toggleable__control:checked~label.sk-toggleable__label {background-color: #d4ebff;}#sk-container-id-9 input.sk-hidden--visually {border: 0;clip: rect(1px 1px 1px 1px);clip: rect(1px, 1px, 1px, 1px);height: 1px;margin: -1px;overflow: hidden;padding: 0;position: absolute;width: 1px;}#sk-container-id-9 div.sk-estimator {font-family: monospace;background-color: #f0f8ff;border: 1px dotted black;border-radius: 0.25em;box-sizing: border-box;margin-bottom: 0.5em;}#sk-container-id-9 div.sk-estimator:hover {background-color: #d4ebff;}#sk-container-id-9 div.sk-parallel-item::after {content: \"\";width: 100%;border-bottom: 1px solid gray;flex-grow: 1;}#sk-container-id-9 div.sk-label:hover label.sk-toggleable__label {background-color: #d4ebff;}#sk-container-id-9 div.sk-serial::before {content: \"\";position: absolute;border-left: 1px solid gray;box-sizing: border-box;top: 0;bottom: 0;left: 50%;z-index: 0;}#sk-container-id-9 div.sk-serial {display: flex;flex-direction: column;align-items: center;background-color: white;padding-right: 0.2em;padding-left: 0.2em;position: relative;}#sk-container-id-9 div.sk-item {position: relative;z-index: 1;}#sk-container-id-9 div.sk-parallel {display: flex;align-items: stretch;justify-content: center;background-color: white;position: relative;}#sk-container-id-9 div.sk-item::before, #sk-container-id-9 div.sk-parallel-item::before {content: \"\";position: absolute;border-left: 1px solid gray;box-sizing: border-box;top: 0;bottom: 0;left: 50%;z-index: -1;}#sk-container-id-9 div.sk-parallel-item {display: flex;flex-direction: column;z-index: 1;position: relative;background-color: white;}#sk-container-id-9 div.sk-parallel-item:first-child::after {align-self: flex-end;width: 50%;}#sk-container-id-9 div.sk-parallel-item:last-child::after {align-self: flex-start;width: 50%;}#sk-container-id-9 div.sk-parallel-item:only-child::after {width: 0;}#sk-container-id-9 div.sk-dashed-wrapped {border: 1px dashed gray;margin: 0 0.4em 0.5em 0.4em;box-sizing: border-box;padding-bottom: 0.4em;background-color: white;}#sk-container-id-9 div.sk-label label {font-family: monospace;font-weight: bold;display: inline-block;line-height: 1.2em;}#sk-container-id-9 div.sk-label-container {text-align: center;}#sk-container-id-9 div.sk-container {/* jupyter's `normalize.less` sets `[hidden] { display: none; }` but bootstrap.min.css set `[hidden] { display: none !important; }` so we also need the `!important` here to be able to override the default hidden behavior on the sphinx rendered scikit-learn.org. See: https://github.com/scikit-learn/scikit-learn/issues/21755 */display: inline-block !important;position: relative;}#sk-container-id-9 div.sk-text-repr-fallback {display: none;}</style><div id=\"sk-container-id-9\" class=\"sk-top-container\"><div class=\"sk-text-repr-fallback\"><pre>DecisionTreeClassifier(criterion=&#x27;entropy&#x27;, max_depth=3, random_state=42)</pre><b>In a Jupyter environment, please rerun this cell to show the HTML representation or trust the notebook. <br />On GitHub, the HTML representation is unable to render, please try loading this page with nbviewer.org.</b></div><div class=\"sk-container\" hidden><div class=\"sk-item\"><div class=\"sk-estimator sk-toggleable\"><input class=\"sk-toggleable__control sk-hidden--visually\" id=\"sk-estimator-id-9\" type=\"checkbox\" checked><label for=\"sk-estimator-id-9\" class=\"sk-toggleable__label sk-toggleable__label-arrow\">DecisionTreeClassifier</label><div class=\"sk-toggleable__content\"><pre>DecisionTreeClassifier(criterion=&#x27;entropy&#x27;, max_depth=3, random_state=42)</pre></div></div></div></div></div>"
      ],
      "text/plain": [
       "DecisionTreeClassifier(criterion='entropy', max_depth=3, random_state=42)"
      ]
     },
     "execution_count": 154,
     "metadata": {},
     "output_type": "execute_result"
    }
   ],
   "source": [
    "dt_ent = DecisionTreeClassifier(criterion='entropy', splitter='best', max_depth=3, min_samples_split=2, min_samples_leaf=1, random_state=42)\n",
    "dt_ent.fit(x_train, y_train)"
   ]
  },
  {
   "cell_type": "code",
   "execution_count": 155,
   "metadata": {},
   "outputs": [
    {
     "name": "stdout",
     "output_type": "stream",
     "text": [
      "0.6754820936639119\n"
     ]
    }
   ],
   "source": [
    "y_pred_test_ent = dt_ent.predict(x_test)\n",
    "print(accuracy_score(y_test, y_pred_test_ent))"
   ]
  },
  {
   "cell_type": "code",
   "execution_count": 158,
   "metadata": {},
   "outputs": [
    {
     "name": "stdout",
     "output_type": "stream",
     "text": [
      "0.6782467091871353\n"
     ]
    }
   ],
   "source": [
    "y_pred_train_ent = dt_ent.predict(x_train)\n",
    "print(accuracy_score(y_train, y_pred_train_ent))"
   ]
  },
  {
   "cell_type": "code",
   "execution_count": 157,
   "metadata": {},
   "outputs": [
    {
     "name": "stdout",
     "output_type": "stream",
     "text": [
      "              precision    recall  f1-score   support\n",
      "\n",
      "           0       0.55      0.96      0.70      1446\n",
      "           1       0.94      0.49      0.64      2184\n",
      "\n",
      "    accuracy                           0.68      3630\n",
      "   macro avg       0.75      0.72      0.67      3630\n",
      "weighted avg       0.79      0.68      0.67      3630\n",
      "\n"
     ]
    }
   ],
   "source": [
    "print(classification_report(y_test, y_pred_test_ent))"
   ]
  },
  {
   "cell_type": "code",
   "execution_count": 160,
   "metadata": {},
   "outputs": [
    {
     "data": {
      "text/html": [
       "<style>#sk-container-id-10 {color: black;background-color: white;}#sk-container-id-10 pre{padding: 0;}#sk-container-id-10 div.sk-toggleable {background-color: white;}#sk-container-id-10 label.sk-toggleable__label {cursor: pointer;display: block;width: 100%;margin-bottom: 0;padding: 0.3em;box-sizing: border-box;text-align: center;}#sk-container-id-10 label.sk-toggleable__label-arrow:before {content: \"▸\";float: left;margin-right: 0.25em;color: #696969;}#sk-container-id-10 label.sk-toggleable__label-arrow:hover:before {color: black;}#sk-container-id-10 div.sk-estimator:hover label.sk-toggleable__label-arrow:before {color: black;}#sk-container-id-10 div.sk-toggleable__content {max-height: 0;max-width: 0;overflow: hidden;text-align: left;background-color: #f0f8ff;}#sk-container-id-10 div.sk-toggleable__content pre {margin: 0.2em;color: black;border-radius: 0.25em;background-color: #f0f8ff;}#sk-container-id-10 input.sk-toggleable__control:checked~div.sk-toggleable__content {max-height: 200px;max-width: 100%;overflow: auto;}#sk-container-id-10 input.sk-toggleable__control:checked~label.sk-toggleable__label-arrow:before {content: \"▾\";}#sk-container-id-10 div.sk-estimator input.sk-toggleable__control:checked~label.sk-toggleable__label {background-color: #d4ebff;}#sk-container-id-10 div.sk-label input.sk-toggleable__control:checked~label.sk-toggleable__label {background-color: #d4ebff;}#sk-container-id-10 input.sk-hidden--visually {border: 0;clip: rect(1px 1px 1px 1px);clip: rect(1px, 1px, 1px, 1px);height: 1px;margin: -1px;overflow: hidden;padding: 0;position: absolute;width: 1px;}#sk-container-id-10 div.sk-estimator {font-family: monospace;background-color: #f0f8ff;border: 1px dotted black;border-radius: 0.25em;box-sizing: border-box;margin-bottom: 0.5em;}#sk-container-id-10 div.sk-estimator:hover {background-color: #d4ebff;}#sk-container-id-10 div.sk-parallel-item::after {content: \"\";width: 100%;border-bottom: 1px solid gray;flex-grow: 1;}#sk-container-id-10 div.sk-label:hover label.sk-toggleable__label {background-color: #d4ebff;}#sk-container-id-10 div.sk-serial::before {content: \"\";position: absolute;border-left: 1px solid gray;box-sizing: border-box;top: 0;bottom: 0;left: 50%;z-index: 0;}#sk-container-id-10 div.sk-serial {display: flex;flex-direction: column;align-items: center;background-color: white;padding-right: 0.2em;padding-left: 0.2em;position: relative;}#sk-container-id-10 div.sk-item {position: relative;z-index: 1;}#sk-container-id-10 div.sk-parallel {display: flex;align-items: stretch;justify-content: center;background-color: white;position: relative;}#sk-container-id-10 div.sk-item::before, #sk-container-id-10 div.sk-parallel-item::before {content: \"\";position: absolute;border-left: 1px solid gray;box-sizing: border-box;top: 0;bottom: 0;left: 50%;z-index: -1;}#sk-container-id-10 div.sk-parallel-item {display: flex;flex-direction: column;z-index: 1;position: relative;background-color: white;}#sk-container-id-10 div.sk-parallel-item:first-child::after {align-self: flex-end;width: 50%;}#sk-container-id-10 div.sk-parallel-item:last-child::after {align-self: flex-start;width: 50%;}#sk-container-id-10 div.sk-parallel-item:only-child::after {width: 0;}#sk-container-id-10 div.sk-dashed-wrapped {border: 1px dashed gray;margin: 0 0.4em 0.5em 0.4em;box-sizing: border-box;padding-bottom: 0.4em;background-color: white;}#sk-container-id-10 div.sk-label label {font-family: monospace;font-weight: bold;display: inline-block;line-height: 1.2em;}#sk-container-id-10 div.sk-label-container {text-align: center;}#sk-container-id-10 div.sk-container {/* jupyter's `normalize.less` sets `[hidden] { display: none; }` but bootstrap.min.css set `[hidden] { display: none !important; }` so we also need the `!important` here to be able to override the default hidden behavior on the sphinx rendered scikit-learn.org. See: https://github.com/scikit-learn/scikit-learn/issues/21755 */display: inline-block !important;position: relative;}#sk-container-id-10 div.sk-text-repr-fallback {display: none;}</style><div id=\"sk-container-id-10\" class=\"sk-top-container\"><div class=\"sk-text-repr-fallback\"><pre>DecisionTreeClassifier(criterion=&#x27;log_loss&#x27;, max_depth=3, random_state=42)</pre><b>In a Jupyter environment, please rerun this cell to show the HTML representation or trust the notebook. <br />On GitHub, the HTML representation is unable to render, please try loading this page with nbviewer.org.</b></div><div class=\"sk-container\" hidden><div class=\"sk-item\"><div class=\"sk-estimator sk-toggleable\"><input class=\"sk-toggleable__control sk-hidden--visually\" id=\"sk-estimator-id-10\" type=\"checkbox\" checked><label for=\"sk-estimator-id-10\" class=\"sk-toggleable__label sk-toggleable__label-arrow\">DecisionTreeClassifier</label><div class=\"sk-toggleable__content\"><pre>DecisionTreeClassifier(criterion=&#x27;log_loss&#x27;, max_depth=3, random_state=42)</pre></div></div></div></div></div>"
      ],
      "text/plain": [
       "DecisionTreeClassifier(criterion='log_loss', max_depth=3, random_state=42)"
      ]
     },
     "execution_count": 160,
     "metadata": {},
     "output_type": "execute_result"
    }
   ],
   "source": [
    "dt_log = DecisionTreeClassifier(criterion='log_loss', splitter='best', max_depth=3, min_samples_split=2, min_samples_leaf=1, random_state=42)\n",
    "dt_log.fit(x_train, y_train)"
   ]
  },
  {
   "cell_type": "code",
   "execution_count": 161,
   "metadata": {},
   "outputs": [
    {
     "name": "stdout",
     "output_type": "stream",
     "text": [
      "0.6754820936639119\n"
     ]
    }
   ],
   "source": [
    "y_pred_test_log = dt_log.predict(x_test)\n",
    "print(accuracy_score(y_test, y_pred_test_log))"
   ]
  },
  {
   "attachments": {},
   "cell_type": "markdown",
   "metadata": {},
   "source": [
    "predict the cost of the product for the company"
   ]
  }
 ],
 "metadata": {
  "kernelspec": {
   "display_name": "Python 3",
   "language": "python",
   "name": "python3"
  },
  "language_info": {
   "codemirror_mode": {
    "name": "ipython",
    "version": 3
   },
   "file_extension": ".py",
   "mimetype": "text/x-python",
   "name": "python",
   "nbconvert_exporter": "python",
   "pygments_lexer": "ipython3",
   "version": "3.11.2"
  },
  "orig_nbformat": 4
 },
 "nbformat": 4,
 "nbformat_minor": 2
}
